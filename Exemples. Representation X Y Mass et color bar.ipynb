{
 "cells": [
  {
   "cell_type": "code",
   "execution_count": 13,
   "metadata": {},
   "outputs": [
    {
     "name": "stdout",
     "output_type": "stream",
     "text": [
      "y              (-0.001, 1.0]  (1.0, 2.0]  (2.0, 3.0]  (3.0, 4.0]  (4.0, 5.0]  \\\n",
      "x                                                                              \n",
      "(-0.001, 1.0]              0          88           0          71           0   \n",
      "(1.0, 2.0]                 0           0           0          54           0   \n",
      "(2.0, 3.0]                 0           0          21          79           0   \n",
      "(3.0, 4.0]                 0           0           0           0          70   \n",
      "(4.0, 5.0]                 0           0          24          23           0   \n",
      "(5.0, 6.0]                 0           0          22           0           6   \n",
      "(6.0, 7.0]                15           0          71           0           0   \n",
      "(7.0, 8.0]               117          13           0          66           0   \n",
      "(8.0, 9.0]                48           0           0           0          15   \n",
      "\n",
      "y              (5.0, 6.0]  (6.0, 7.0]  (7.0, 8.0]  (8.0, 9.0]  \n",
      "x                                                              \n",
      "(-0.001, 1.0]           0         208         107           7  \n",
      "(1.0, 2.0]             65           2           0           0  \n",
      "(2.0, 3.0]              0          24           0           0  \n",
      "(3.0, 4.0]              0          63           9          60  \n",
      "(4.0, 5.0]             56           0           0          57  \n",
      "(5.0, 6.0]              0          17           0          32  \n",
      "(6.0, 7.0]             13          68           0          66  \n",
      "(7.0, 8.0]              0           0          14           0  \n",
      "(8.0, 9.0]             48          42          12          20  \n"
     ]
    },
    {
     "data": {
      "image/png": "[encoded data removed]",
      "text/plain": [
       "<matplotlib.figure.Figure at 0x7f5aa4be0358>"
      ]
     },
     "metadata": {},
     "output_type": "display_data"
    }
   ],
   "source": [
    "import numpy as np; np.random.seed(1)\n",
    "import pandas as pd\n",
    "import matplotlib.pyplot as plt\n",
    "import  matplotlib.colors\n",
    "\n",
    "xpos = np.random.randint(0,10, size=50)\n",
    "ypos = np.random.randint(0,10, size=50)\n",
    "mass = np.random.randint(0,75, size=50)\n",
    "\n",
    "df = pd.DataFrame({\"x\":xpos, \"y\":ypos, \"mass\":mass})\n",
    "\n",
    "xbins = range(10)\n",
    "ybins = range(10)\n",
    "su = df.mass.groupby([pd.cut(df.x, bins=xbins, include_lowest=True), \n",
    "                     pd.cut(df.y, bins=ybins, include_lowest=True)]) \\\n",
    "            .sum().unstack(fill_value=0)\n",
    "print (su)\n",
    "im = plt.imshow(su.values, norm=matplotlib.colors.LogNorm(1,300))\n",
    "plt.xticks(range(len(su.index)), su.index, rotation=90)\n",
    "plt.yticks(range(len(su.columns)), su.columns)\n",
    "plt.colorbar(im)\n",
    "plt.show()"
   ]
  },
  {
   "cell_type": "code",
   "execution_count": 11,
   "metadata": {},
   "outputs": [
    {
     "data": {
      "text/plain": [
       "range"
      ]
     },
     "execution_count": 11,
     "metadata": {},
     "output_type": "execute_result"
    }
   ],
   "source": [
    "type(xbins)"
   ]
  },
  {
   "cell_type": "code",
   "execution_count": null,
   "metadata": {
    "collapsed": true
   },
   "outputs": [],
   "source": []
  },
  {
   "cell_type": "code",
   "execution_count": null,
   "metadata": {
    "collapsed": true
   },
   "outputs": [],
   "source": []
  }
 ],
 "metadata": {
  "kernelspec": {
   "display_name": "Python 3",
   "language": "python",
   "name": "python3"
  },
  "language_info": {
   "codemirror_mode": {
    "name": "ipython",
    "version": 3
   },
   "file_extension": ".py",
   "mimetype": "text/x-python",
   "name": "python",
   "nbconvert_exporter": "python",
   "pygments_lexer": "ipython3",
   "version": "3.6.3"
  }
 },
 "nbformat": 4,
 "nbformat_minor": 2
}
