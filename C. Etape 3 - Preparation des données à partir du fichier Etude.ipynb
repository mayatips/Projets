{
 "cells": [
  {
   "cell_type": "code",
   "execution_count": 1,
   "metadata": {
    "collapsed": true
   },
   "outputs": [],
   "source": [
    "import pandas as pd, numpy as np, calendar as cal, datetime as dt"
   ]
  },
  {
   "cell_type": "markdown",
   "metadata": {},
   "source": [
    "\n",
    "## Chargement du fichier des données issues de la transformation N°2\n"
   ]
  },
  {
   "cell_type": "code",
   "execution_count": 5,
   "metadata": {},
   "outputs": [],
   "source": [
    "data = pd.read_csv(\"DATA/positionshistoriqueEtude.csv\",sep =';',header = 0 , parse_dates=[0,1,9,10])"
   ]
  },
  {
   "cell_type": "code",
   "execution_count": 6,
   "metadata": {},
   "outputs": [
    {
     "data": {
      "text/plain": [
       "(165969, 21)"
      ]
     },
     "execution_count": 6,
     "metadata": {},
     "output_type": "execute_result"
    }
   ],
   "source": [
    "# Fichier N°1 (Brut) df.shape (2 562 750, 13)\n",
    "#Fichier N°2 dedoubloné et complété des variables à étudier (165969, 21)\n",
    "data.shape"
   ]
  },
  {
   "cell_type": "code",
   "execution_count": 7,
   "metadata": {},
   "outputs": [
    {
     "name": "stdout",
     "output_type": "stream",
     "text": [
      "<class 'pandas.core.frame.DataFrame'>\n",
      "RangeIndex: 165969 entries, 0 to 165968\n",
      "Data columns (total 21 columns):\n",
      "dateHeureRec            165969 non-null datetime64[ns]\n",
      "dateHeureGPS            165969 non-null datetime64[ns]\n",
      "idBalise                165969 non-null int64\n",
      "vitesse                 165969 non-null int64\n",
      "direction               165969 non-null int64\n",
      "altitude                165969 non-null int64\n",
      "satellites              165969 non-null int64\n",
      "messageId               165969 non-null int64\n",
      "distance                165969 non-null int64\n",
      "dateHeureServeurPrec    165969 non-null datetime64[ns]\n",
      "dateHeureBalisePrec     165969 non-null datetime64[ns]\n",
      "distancePrec            165969 non-null int64\n",
      "delaiServeur            165969 non-null int64\n",
      "delaiBalise             165969 non-null int64\n",
      "deltaDistance           165969 non-null int64\n",
      "lng                     165969 non-null float64\n",
      "lat                     165969 non-null float64\n",
      "power                   165969 non-null float64\n",
      "volt                    165969 non-null float64\n",
      "labelBalise             165969 non-null object\n",
      "labelMessage            165969 non-null object\n",
      "dtypes: datetime64[ns](4), float64(4), int64(11), object(2)\n",
      "memory usage: 26.6+ MB\n"
     ]
    }
   ],
   "source": [
    "data.info()"
   ]
  },
  {
   "cell_type": "markdown",
   "metadata": {},
   "source": [
    "# Transformation : ajout de variables calculées"
   ]
  },
  {
   "cell_type": "code",
   "execution_count": 12,
   "metadata": {},
   "outputs": [],
   "source": [
    "data[\"delaiTransmission\"] =data.apply ( lambda row : ( int((row[\"dateHeureRec\"]-row[\"dateHeureGPS\"]).total_seconds() ) )  , axis = 1 )"
   ]
  },
  {
   "cell_type": "code",
   "execution_count": 14,
   "metadata": {},
   "outputs": [],
   "source": [
    "#Ajout de la colonne DayWeekRec : 1 = Lundi, 2=Mardi, 3=Mercredi, 4=Jeudi, 5=Vendredi, 6=Samedi, 7=Dimanche\n",
    "data[\"jourBalise\"] =data.apply ( lambda row : (row[\"dateHeureGPS\"].weekday()+1), axis = 1 )\n",
    "data[\"jourServeur\"] =data.apply ( lambda row : (row[\"dateHeureRec\"].weekday()+1), axis = 1 )"
   ]
  },
  {
   "cell_type": "code",
   "execution_count": 16,
   "metadata": {},
   "outputs": [],
   "source": [
    "#Calcul d'un numéro de rang pour ordonner dans le temps les observations\n",
    "data[\"rangDateGPS\"] =data.apply ( lambda row : ( int((row[\"dateHeureGPS\"]-dt.datetime(2017, 12, 31, 0, 0, 0, 0)).total_seconds() ) )  , axis = 1 )\n",
    "data[\"rangDateRec\"] =data.apply ( lambda row : ( int((row[\"dateHeureRec\"]-dt.datetime(2017, 12, 31, 0, 0, 0, 0)).total_seconds() ) )  , axis = 1 )"
   ]
  },
  {
   "cell_type": "code",
   "execution_count": 19,
   "metadata": {
    "collapsed": true
   },
   "outputs": [],
   "source": [
    "data[\"momentGPS\"] = data.apply ( lambda row : ( dt.datetime(row[\"dateHeureGPS\"].year, row[\"dateHeureGPS\"].month, row[\"dateHeureGPS\"].day, row[\"dateHeureGPS\"].hour, 0, 0, 0)) , axis = 1 )"
   ]
  },
  {
   "cell_type": "code",
   "execution_count": 20,
   "metadata": {
    "collapsed": true
   },
   "outputs": [],
   "source": [
    "data[\"client\"] = data.apply ( lambda row : ( int(row[\"idBalise\"]/1000 ) ) , axis = 1 )\n",
    "data[\"labelClient\"] = data.apply ( lambda row : ( \"C\"+str(int(row[\"idBalise\"]/1000 )) ) , axis = 1 )"
   ]
  },
  {
   "cell_type": "code",
   "execution_count": 17,
   "metadata": {},
   "outputs": [
    {
     "name": "stdout",
     "output_type": "stream",
     "text": [
      "<class 'pandas.core.frame.DataFrame'>\n",
      "RangeIndex: 165969 entries, 0 to 165968\n",
      "Data columns (total 26 columns):\n",
      "dateHeureRec            165969 non-null datetime64[ns]\n",
      "dateHeureGPS            165969 non-null datetime64[ns]\n",
      "idBalise                165969 non-null int64\n",
      "vitesse                 165969 non-null int64\n",
      "direction               165969 non-null int64\n",
      "altitude                165969 non-null int64\n",
      "satellites              165969 non-null int64\n",
      "messageId               165969 non-null int64\n",
      "distance                165969 non-null int64\n",
      "dateHeureServeurPrec    165969 non-null datetime64[ns]\n",
      "dateHeureBalisePrec     165969 non-null datetime64[ns]\n",
      "distancePrec            165969 non-null int64\n",
      "delaiServeur            165969 non-null int64\n",
      "delaiBalise             165969 non-null int64\n",
      "deltaDistance           165969 non-null int64\n",
      "lng                     165969 non-null float64\n",
      "lat                     165969 non-null float64\n",
      "power                   165969 non-null float64\n",
      "volt                    165969 non-null float64\n",
      "labelBalise             165969 non-null object\n",
      "labelMessage            165969 non-null object\n",
      "delaiTransmission       165969 non-null int64\n",
      "jourBalise              165969 non-null int64\n",
      "jourServeur             165969 non-null int64\n",
      "rangDateGPS             165969 non-null int64\n",
      "rangDateRec             165969 non-null int64\n",
      "dtypes: datetime64[ns](4), float64(4), int64(16), object(2)\n",
      "memory usage: 32.9+ MB\n"
     ]
    }
   ],
   "source": [
    "data.info()"
   ]
  },
  {
   "cell_type": "markdown",
   "metadata": {},
   "source": [
    "# Sauvegarde dans un fichier"
   ]
  },
  {
   "cell_type": "code",
   "execution_count": 21,
   "metadata": {
    "collapsed": true
   },
   "outputs": [],
   "source": [
    "data.to_csv('DATA/dataset_pret_pour_analyse_exploratoire.csv', sep = ';',index = False)"
   ]
  },
  {
   "cell_type": "code",
   "execution_count": null,
   "metadata": {
    "collapsed": true
   },
   "outputs": [],
   "source": []
  }
 ],
 "metadata": {
  "kernelspec": {
   "display_name": "Python 3",
   "language": "python",
   "name": "python3"
  },
  "language_info": {
   "codemirror_mode": {
    "name": "ipython",
    "version": 3
   },
   "file_extension": ".py",
   "mimetype": "text/x-python",
   "name": "python",
   "nbconvert_exporter": "python",
   "pygments_lexer": "ipython3",
   "version": "3.6.3"
  }
 },
 "nbformat": 4,
 "nbformat_minor": 2
}
