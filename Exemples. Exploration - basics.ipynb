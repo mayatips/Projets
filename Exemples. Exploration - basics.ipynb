{
 "cells": [
  {
   "cell_type": "markdown",
   "metadata": {},
   "source": [
    "# Manipulation data et graph pour visu"
   ]
  },
  {
   "cell_type": "code",
   "execution_count": 3,
   "metadata": {},
   "outputs": [
    {
     "name": "stdout",
     "output_type": "stream",
     "text": [
      "0.20.3\n"
     ]
    }
   ],
   "source": [
    "#Première étape : il faut charger la librairie Pandas\n",
    "import pandas\n",
    "#par convenance pure, nous modifions le nombre de lignes \n",
    "#à afficher dans les print. L'idée est d'éviter que le tutoriel\n",
    "#se résume à de multples affichages de longs tableaux\n",
    "#vous pouvez modifier cette option à votre guise\n",
    "#pandas.options.display.max_rows = 10\n",
    "#vérifier la version\n",
    "print (pandas.__version__)"
   ]
  },
  {
   "cell_type": "code",
   "execution_count": 4,
   "metadata": {},
   "outputs": [
    {
     "name": "stdout",
     "output_type": "stream",
     "text": [
      "<class 'pandas.core.frame.DataFrame'>\n"
     ]
    }
   ],
   "source": [
    "#chargement du fichier\n",
    "#df est le nom de l'objet de type data frame créé\n",
    "#sep spécifie le caractère séparateur de colonnes\n",
    "#header = 0 : la ligne numéro 0 = aux noms des champs\n",
    "#éventuellement decimal permet d'indiquer le point décimal\n",
    "df = pandas.read_table(\"DATA/BackUpW/heart.txt\",sep ='\\t',header = 0)\n",
    "#vérifions le type de df\n",
    "print(type(df))"
   ]
  },
  {
   "cell_type": "code",
   "execution_count": 5,
   "metadata": {},
   "outputs": [
    {
     "name": "stdout",
     "output_type": "stream",
     "text": [
      "(270, 13)\n"
     ]
    }
   ],
   "source": [
    "print(df.shape)"
   ]
  },
  {
   "cell_type": "code",
   "execution_count": 6,
   "metadata": {},
   "outputs": [
    {
     "data": {
      "text/html": [
       "<div>\n",
       "<style>\n",
       "    .dataframe thead tr:only-child th {\n",
       "        text-align: right;\n",
       "    }\n",
       "\n",
       "    .dataframe thead th {\n",
       "        text-align: left;\n",
       "    }\n",
       "\n",
       "    .dataframe tbody tr th {\n",
       "        vertical-align: top;\n",
       "    }\n",
       "</style>\n",
       "<table border=\"1\" class=\"dataframe\">\n",
       "  <thead>\n",
       "    <tr style=\"text-align: right;\">\n",
       "      <th></th>\n",
       "      <th>age</th>\n",
       "      <th>sexe</th>\n",
       "      <th>type_douleur</th>\n",
       "      <th>pression</th>\n",
       "      <th>cholester</th>\n",
       "      <th>sucre</th>\n",
       "      <th>electro</th>\n",
       "      <th>taux_max</th>\n",
       "      <th>angine</th>\n",
       "      <th>depression</th>\n",
       "      <th>pic</th>\n",
       "      <th>vaisseau</th>\n",
       "      <th>coeur</th>\n",
       "    </tr>\n",
       "  </thead>\n",
       "  <tbody>\n",
       "    <tr>\n",
       "      <th>0</th>\n",
       "      <td>70</td>\n",
       "      <td>masculin</td>\n",
       "      <td>D</td>\n",
       "      <td>130</td>\n",
       "      <td>322</td>\n",
       "      <td>A</td>\n",
       "      <td>C</td>\n",
       "      <td>109</td>\n",
       "      <td>non</td>\n",
       "      <td>24</td>\n",
       "      <td>2</td>\n",
       "      <td>D</td>\n",
       "      <td>presence</td>\n",
       "    </tr>\n",
       "    <tr>\n",
       "      <th>1</th>\n",
       "      <td>67</td>\n",
       "      <td>feminin</td>\n",
       "      <td>C</td>\n",
       "      <td>115</td>\n",
       "      <td>564</td>\n",
       "      <td>A</td>\n",
       "      <td>C</td>\n",
       "      <td>160</td>\n",
       "      <td>non</td>\n",
       "      <td>16</td>\n",
       "      <td>2</td>\n",
       "      <td>A</td>\n",
       "      <td>absence</td>\n",
       "    </tr>\n",
       "    <tr>\n",
       "      <th>2</th>\n",
       "      <td>57</td>\n",
       "      <td>masculin</td>\n",
       "      <td>B</td>\n",
       "      <td>124</td>\n",
       "      <td>261</td>\n",
       "      <td>A</td>\n",
       "      <td>A</td>\n",
       "      <td>141</td>\n",
       "      <td>non</td>\n",
       "      <td>3</td>\n",
       "      <td>1</td>\n",
       "      <td>A</td>\n",
       "      <td>presence</td>\n",
       "    </tr>\n",
       "    <tr>\n",
       "      <th>3</th>\n",
       "      <td>64</td>\n",
       "      <td>masculin</td>\n",
       "      <td>D</td>\n",
       "      <td>128</td>\n",
       "      <td>263</td>\n",
       "      <td>A</td>\n",
       "      <td>A</td>\n",
       "      <td>105</td>\n",
       "      <td>oui</td>\n",
       "      <td>2</td>\n",
       "      <td>2</td>\n",
       "      <td>B</td>\n",
       "      <td>absence</td>\n",
       "    </tr>\n",
       "    <tr>\n",
       "      <th>4</th>\n",
       "      <td>74</td>\n",
       "      <td>feminin</td>\n",
       "      <td>B</td>\n",
       "      <td>120</td>\n",
       "      <td>269</td>\n",
       "      <td>A</td>\n",
       "      <td>C</td>\n",
       "      <td>121</td>\n",
       "      <td>oui</td>\n",
       "      <td>2</td>\n",
       "      <td>1</td>\n",
       "      <td>B</td>\n",
       "      <td>absence</td>\n",
       "    </tr>\n",
       "  </tbody>\n",
       "</table>\n",
       "</div>"
      ],
      "text/plain": [
       "   age      sexe type_douleur  pression  cholester sucre electro  taux_max  \\\n",
       "0   70  masculin            D       130        322     A       C       109   \n",
       "1   67   feminin            C       115        564     A       C       160   \n",
       "2   57  masculin            B       124        261     A       A       141   \n",
       "3   64  masculin            D       128        263     A       A       105   \n",
       "4   74   feminin            B       120        269     A       C       121   \n",
       "\n",
       "  angine  depression  pic vaisseau     coeur  \n",
       "0    non          24    2        D  presence  \n",
       "1    non          16    2        A   absence  \n",
       "2    non           3    1        A  presence  \n",
       "3    oui           2    2        B   absence  \n",
       "4    oui           2    1        B   absence  "
      ]
     },
     "execution_count": 6,
     "metadata": {},
     "output_type": "execute_result"
    }
   ],
   "source": [
    "df.head()"
   ]
  },
  {
   "cell_type": "code",
   "execution_count": 7,
   "metadata": {},
   "outputs": [
    {
     "name": "stdout",
     "output_type": "stream",
     "text": [
      "Index(['age', 'sexe', 'type_douleur', 'pression', 'cholester', 'sucre',\n",
      "       'electro', 'taux_max', 'angine', 'depression', 'pic', 'vaisseau',\n",
      "       'coeur'],\n",
      "      dtype='object')\n"
     ]
    }
   ],
   "source": [
    "print(df.columns)"
   ]
  },
  {
   "cell_type": "code",
   "execution_count": 8,
   "metadata": {},
   "outputs": [
    {
     "data": {
      "text/plain": [
       "age              int64\n",
       "sexe            object\n",
       "type_douleur    object\n",
       "pression         int64\n",
       "cholester        int64\n",
       "sucre           object\n",
       "electro         object\n",
       "taux_max         int64\n",
       "angine          object\n",
       "depression       int64\n",
       "pic              int64\n",
       "vaisseau        object\n",
       "coeur           object\n",
       "dtype: object"
      ]
     },
     "execution_count": 8,
     "metadata": {},
     "output_type": "execute_result"
    }
   ],
   "source": [
    "df.dtypes"
   ]
  },
  {
   "cell_type": "code",
   "execution_count": 9,
   "metadata": {},
   "outputs": [
    {
     "name": "stdout",
     "output_type": "stream",
     "text": [
      "<class 'pandas.core.frame.DataFrame'>\n",
      "RangeIndex: 270 entries, 0 to 269\n",
      "Data columns (total 13 columns):\n",
      "age             270 non-null int64\n",
      "sexe            270 non-null object\n",
      "type_douleur    270 non-null object\n",
      "pression        270 non-null int64\n",
      "cholester       270 non-null int64\n",
      "sucre           270 non-null object\n",
      "electro         270 non-null object\n",
      "taux_max        270 non-null int64\n",
      "angine          270 non-null object\n",
      "depression      270 non-null int64\n",
      "pic             270 non-null int64\n",
      "vaisseau        270 non-null object\n",
      "coeur           270 non-null object\n",
      "dtypes: int64(6), object(7)\n",
      "memory usage: 27.5+ KB\n"
     ]
    }
   ],
   "source": [
    "df.info()"
   ]
  },
  {
   "cell_type": "code",
   "execution_count": 10,
   "metadata": {},
   "outputs": [
    {
     "data": {
      "text/html": [
       "<div>\n",
       "<style>\n",
       "    .dataframe thead tr:only-child th {\n",
       "        text-align: right;\n",
       "    }\n",
       "\n",
       "    .dataframe thead th {\n",
       "        text-align: left;\n",
       "    }\n",
       "\n",
       "    .dataframe tbody tr th {\n",
       "        vertical-align: top;\n",
       "    }\n",
       "</style>\n",
       "<table border=\"1\" class=\"dataframe\">\n",
       "  <thead>\n",
       "    <tr style=\"text-align: right;\">\n",
       "      <th></th>\n",
       "      <th>age</th>\n",
       "      <th>sexe</th>\n",
       "      <th>type_douleur</th>\n",
       "      <th>pression</th>\n",
       "      <th>cholester</th>\n",
       "      <th>sucre</th>\n",
       "      <th>electro</th>\n",
       "      <th>taux_max</th>\n",
       "      <th>angine</th>\n",
       "      <th>depression</th>\n",
       "      <th>pic</th>\n",
       "      <th>vaisseau</th>\n",
       "      <th>coeur</th>\n",
       "    </tr>\n",
       "  </thead>\n",
       "  <tbody>\n",
       "    <tr>\n",
       "      <th>count</th>\n",
       "      <td>270.000000</td>\n",
       "      <td>270</td>\n",
       "      <td>270</td>\n",
       "      <td>270.000000</td>\n",
       "      <td>270.000000</td>\n",
       "      <td>270</td>\n",
       "      <td>270</td>\n",
       "      <td>270.000000</td>\n",
       "      <td>270</td>\n",
       "      <td>270.000000</td>\n",
       "      <td>270.000000</td>\n",
       "      <td>270</td>\n",
       "      <td>270</td>\n",
       "    </tr>\n",
       "    <tr>\n",
       "      <th>unique</th>\n",
       "      <td>NaN</td>\n",
       "      <td>2</td>\n",
       "      <td>4</td>\n",
       "      <td>NaN</td>\n",
       "      <td>NaN</td>\n",
       "      <td>2</td>\n",
       "      <td>3</td>\n",
       "      <td>NaN</td>\n",
       "      <td>2</td>\n",
       "      <td>NaN</td>\n",
       "      <td>NaN</td>\n",
       "      <td>4</td>\n",
       "      <td>2</td>\n",
       "    </tr>\n",
       "    <tr>\n",
       "      <th>top</th>\n",
       "      <td>NaN</td>\n",
       "      <td>masculin</td>\n",
       "      <td>D</td>\n",
       "      <td>NaN</td>\n",
       "      <td>NaN</td>\n",
       "      <td>A</td>\n",
       "      <td>C</td>\n",
       "      <td>NaN</td>\n",
       "      <td>non</td>\n",
       "      <td>NaN</td>\n",
       "      <td>NaN</td>\n",
       "      <td>A</td>\n",
       "      <td>absence</td>\n",
       "    </tr>\n",
       "    <tr>\n",
       "      <th>freq</th>\n",
       "      <td>NaN</td>\n",
       "      <td>183</td>\n",
       "      <td>129</td>\n",
       "      <td>NaN</td>\n",
       "      <td>NaN</td>\n",
       "      <td>230</td>\n",
       "      <td>137</td>\n",
       "      <td>NaN</td>\n",
       "      <td>181</td>\n",
       "      <td>NaN</td>\n",
       "      <td>NaN</td>\n",
       "      <td>160</td>\n",
       "      <td>150</td>\n",
       "    </tr>\n",
       "    <tr>\n",
       "      <th>mean</th>\n",
       "      <td>54.433333</td>\n",
       "      <td>NaN</td>\n",
       "      <td>NaN</td>\n",
       "      <td>131.344444</td>\n",
       "      <td>249.659259</td>\n",
       "      <td>NaN</td>\n",
       "      <td>NaN</td>\n",
       "      <td>149.677778</td>\n",
       "      <td>NaN</td>\n",
       "      <td>10.500000</td>\n",
       "      <td>1.585185</td>\n",
       "      <td>NaN</td>\n",
       "      <td>NaN</td>\n",
       "    </tr>\n",
       "    <tr>\n",
       "      <th>std</th>\n",
       "      <td>9.109067</td>\n",
       "      <td>NaN</td>\n",
       "      <td>NaN</td>\n",
       "      <td>17.861608</td>\n",
       "      <td>51.686237</td>\n",
       "      <td>NaN</td>\n",
       "      <td>NaN</td>\n",
       "      <td>23.165717</td>\n",
       "      <td>NaN</td>\n",
       "      <td>11.452098</td>\n",
       "      <td>0.614390</td>\n",
       "      <td>NaN</td>\n",
       "      <td>NaN</td>\n",
       "    </tr>\n",
       "    <tr>\n",
       "      <th>min</th>\n",
       "      <td>29.000000</td>\n",
       "      <td>NaN</td>\n",
       "      <td>NaN</td>\n",
       "      <td>94.000000</td>\n",
       "      <td>126.000000</td>\n",
       "      <td>NaN</td>\n",
       "      <td>NaN</td>\n",
       "      <td>71.000000</td>\n",
       "      <td>NaN</td>\n",
       "      <td>0.000000</td>\n",
       "      <td>1.000000</td>\n",
       "      <td>NaN</td>\n",
       "      <td>NaN</td>\n",
       "    </tr>\n",
       "    <tr>\n",
       "      <th>25%</th>\n",
       "      <td>48.000000</td>\n",
       "      <td>NaN</td>\n",
       "      <td>NaN</td>\n",
       "      <td>120.000000</td>\n",
       "      <td>213.000000</td>\n",
       "      <td>NaN</td>\n",
       "      <td>NaN</td>\n",
       "      <td>133.000000</td>\n",
       "      <td>NaN</td>\n",
       "      <td>0.000000</td>\n",
       "      <td>1.000000</td>\n",
       "      <td>NaN</td>\n",
       "      <td>NaN</td>\n",
       "    </tr>\n",
       "    <tr>\n",
       "      <th>50%</th>\n",
       "      <td>55.000000</td>\n",
       "      <td>NaN</td>\n",
       "      <td>NaN</td>\n",
       "      <td>130.000000</td>\n",
       "      <td>245.000000</td>\n",
       "      <td>NaN</td>\n",
       "      <td>NaN</td>\n",
       "      <td>153.500000</td>\n",
       "      <td>NaN</td>\n",
       "      <td>8.000000</td>\n",
       "      <td>2.000000</td>\n",
       "      <td>NaN</td>\n",
       "      <td>NaN</td>\n",
       "    </tr>\n",
       "    <tr>\n",
       "      <th>75%</th>\n",
       "      <td>61.000000</td>\n",
       "      <td>NaN</td>\n",
       "      <td>NaN</td>\n",
       "      <td>140.000000</td>\n",
       "      <td>280.000000</td>\n",
       "      <td>NaN</td>\n",
       "      <td>NaN</td>\n",
       "      <td>166.000000</td>\n",
       "      <td>NaN</td>\n",
       "      <td>16.000000</td>\n",
       "      <td>2.000000</td>\n",
       "      <td>NaN</td>\n",
       "      <td>NaN</td>\n",
       "    </tr>\n",
       "    <tr>\n",
       "      <th>max</th>\n",
       "      <td>77.000000</td>\n",
       "      <td>NaN</td>\n",
       "      <td>NaN</td>\n",
       "      <td>200.000000</td>\n",
       "      <td>564.000000</td>\n",
       "      <td>NaN</td>\n",
       "      <td>NaN</td>\n",
       "      <td>202.000000</td>\n",
       "      <td>NaN</td>\n",
       "      <td>62.000000</td>\n",
       "      <td>3.000000</td>\n",
       "      <td>NaN</td>\n",
       "      <td>NaN</td>\n",
       "    </tr>\n",
       "  </tbody>\n",
       "</table>\n",
       "</div>"
      ],
      "text/plain": [
       "               age      sexe type_douleur    pression   cholester sucre  \\\n",
       "count   270.000000       270          270  270.000000  270.000000   270   \n",
       "unique         NaN         2            4         NaN         NaN     2   \n",
       "top            NaN  masculin            D         NaN         NaN     A   \n",
       "freq           NaN       183          129         NaN         NaN   230   \n",
       "mean     54.433333       NaN          NaN  131.344444  249.659259   NaN   \n",
       "std       9.109067       NaN          NaN   17.861608   51.686237   NaN   \n",
       "min      29.000000       NaN          NaN   94.000000  126.000000   NaN   \n",
       "25%      48.000000       NaN          NaN  120.000000  213.000000   NaN   \n",
       "50%      55.000000       NaN          NaN  130.000000  245.000000   NaN   \n",
       "75%      61.000000       NaN          NaN  140.000000  280.000000   NaN   \n",
       "max      77.000000       NaN          NaN  200.000000  564.000000   NaN   \n",
       "\n",
       "       electro    taux_max angine  depression         pic vaisseau    coeur  \n",
       "count      270  270.000000    270  270.000000  270.000000      270      270  \n",
       "unique       3         NaN      2         NaN         NaN        4        2  \n",
       "top          C         NaN    non         NaN         NaN        A  absence  \n",
       "freq       137         NaN    181         NaN         NaN      160      150  \n",
       "mean       NaN  149.677778    NaN   10.500000    1.585185      NaN      NaN  \n",
       "std        NaN   23.165717    NaN   11.452098    0.614390      NaN      NaN  \n",
       "min        NaN   71.000000    NaN    0.000000    1.000000      NaN      NaN  \n",
       "25%        NaN  133.000000    NaN    0.000000    1.000000      NaN      NaN  \n",
       "50%        NaN  153.500000    NaN    8.000000    2.000000      NaN      NaN  \n",
       "75%        NaN  166.000000    NaN   16.000000    2.000000      NaN      NaN  \n",
       "max        NaN  202.000000    NaN   62.000000    3.000000      NaN      NaN  "
      ]
     },
     "execution_count": 10,
     "metadata": {},
     "output_type": "execute_result"
    }
   ],
   "source": [
    "df.describe(include='all')"
   ]
  },
  {
   "cell_type": "code",
   "execution_count": 11,
   "metadata": {},
   "outputs": [
    {
     "data": {
      "text/plain": [
       "0      masculin\n",
       "1       feminin\n",
       "2      masculin\n",
       "3      masculin\n",
       "4       feminin\n",
       "5      masculin\n",
       "6      masculin\n",
       "7      masculin\n",
       "8      masculin\n",
       "9       feminin\n",
       "10     masculin\n",
       "11     masculin\n",
       "12     masculin\n",
       "13     masculin\n",
       "14      feminin\n",
       "15      feminin\n",
       "16     masculin\n",
       "17     masculin\n",
       "18     masculin\n",
       "19     masculin\n",
       "20     masculin\n",
       "21     masculin\n",
       "22     masculin\n",
       "23     masculin\n",
       "24      feminin\n",
       "25      feminin\n",
       "26      feminin\n",
       "27      feminin\n",
       "28     masculin\n",
       "29      feminin\n",
       "         ...   \n",
       "240    masculin\n",
       "241    masculin\n",
       "242     feminin\n",
       "243     feminin\n",
       "244     feminin\n",
       "245    masculin\n",
       "246    masculin\n",
       "247     feminin\n",
       "248    masculin\n",
       "249    masculin\n",
       "250    masculin\n",
       "251    masculin\n",
       "252    masculin\n",
       "253    masculin\n",
       "254    masculin\n",
       "255     feminin\n",
       "256    masculin\n",
       "257    masculin\n",
       "258    masculin\n",
       "259    masculin\n",
       "260     feminin\n",
       "261    masculin\n",
       "262    masculin\n",
       "263    masculin\n",
       "264    masculin\n",
       "265    masculin\n",
       "266    masculin\n",
       "267     feminin\n",
       "268    masculin\n",
       "269    masculin\n",
       "Name: sexe, Length: 270, dtype: object"
      ]
     },
     "execution_count": 11,
     "metadata": {},
     "output_type": "execute_result"
    }
   ],
   "source": [
    "df['sexe']"
   ]
  },
  {
   "cell_type": "code",
   "execution_count": 13,
   "metadata": {},
   "outputs": [
    {
     "data": {
      "text/plain": [
       "0    70\n",
       "1    67\n",
       "2    57\n",
       "Name: age, dtype: int64"
      ]
     },
     "execution_count": 13,
     "metadata": {},
     "output_type": "execute_result"
    }
   ],
   "source": [
    "#3 premières valeurs\n",
    "df.age.head(3)"
   ]
  },
  {
   "cell_type": "code",
   "execution_count": 14,
   "metadata": {},
   "outputs": [
    {
     "data": {
      "text/plain": [
       "267    56\n",
       "268    57\n",
       "269    67\n",
       "Name: age, dtype: int64"
      ]
     },
     "execution_count": 14,
     "metadata": {},
     "output_type": "execute_result"
    }
   ],
   "source": [
    "#3 dernieres valeurs\n",
    "df.age.tail(3)"
   ]
  },
  {
   "cell_type": "code",
   "execution_count": 15,
   "metadata": {},
   "outputs": [
    {
     "name": "stdout",
     "output_type": "stream",
     "text": [
      "Moyenne :  54.43333333333333\n"
     ]
    }
   ],
   "source": [
    "print ('Moyenne : ', df.age.mean())"
   ]
  },
  {
   "cell_type": "code",
   "execution_count": 16,
   "metadata": {},
   "outputs": [
    {
     "name": "stdout",
     "output_type": "stream",
     "text": [
      "comptage des valeurs\n"
     ]
    },
    {
     "data": {
      "text/plain": [
       "D    129\n",
       "C     79\n",
       "B     42\n",
       "A     20\n",
       "Name: type_douleur, dtype: int64"
      ]
     },
     "execution_count": 16,
     "metadata": {},
     "output_type": "execute_result"
    }
   ],
   "source": [
    "print ('comptage des valeurs')\n",
    "df.type_douleur.value_counts()"
   ]
  },
  {
   "cell_type": "code",
   "execution_count": 17,
   "metadata": {},
   "outputs": [
    {
     "name": "stdout",
     "output_type": "stream",
     "text": [
      "La premiere valeur de age :  70\n"
     ]
    }
   ],
   "source": [
    "print('La premiere valeur de age : ', df.age[0])"
   ]
  },
  {
   "cell_type": "code",
   "execution_count": 18,
   "metadata": {},
   "outputs": [
    {
     "data": {
      "text/plain": [
       "1    67\n",
       "2    57\n",
       "Name: age, dtype: int64"
      ]
     },
     "execution_count": 18,
     "metadata": {},
     "output_type": "execute_result"
    }
   ],
   "source": [
    "df.age[1:3]"
   ]
  },
  {
   "cell_type": "code",
   "execution_count": 19,
   "metadata": {
    "collapsed": true
   },
   "outputs": [],
   "source": [
    "df2=df.age.sort_values()"
   ]
  },
  {
   "cell_type": "code",
   "execution_count": 20,
   "metadata": {},
   "outputs": [
    {
     "data": {
      "text/plain": [
       "214    29\n",
       "174    34\n",
       "138    34\n",
       "224    35\n",
       "81     35\n",
       "193    35\n",
       "32     37\n",
       "209    37\n",
       "160    38\n",
       "77     39\n",
       "231    39\n",
       "241    39\n",
       "19     40\n",
       "147    40\n",
       "40     40\n",
       "225    41\n",
       "149    41\n",
       "88     41\n",
       "83     41\n",
       "111    41\n",
       "182    41\n",
       "215    41\n",
       "150    41\n",
       "55     41\n",
       "50     42\n",
       "38     42\n",
       "85     42\n",
       "183    42\n",
       "132    42\n",
       "180    42\n",
       "       ..\n",
       "118    66\n",
       "48     66\n",
       "131    66\n",
       "159    66\n",
       "31     66\n",
       "96     66\n",
       "269    67\n",
       "136    67\n",
       "1      67\n",
       "20     67\n",
       "74     67\n",
       "101    67\n",
       "178    67\n",
       "172    67\n",
       "240    68\n",
       "200    68\n",
       "173    68\n",
       "171    69\n",
       "170    69\n",
       "198    69\n",
       "189    70\n",
       "191    70\n",
       "72     70\n",
       "0      70\n",
       "29     71\n",
       "15     71\n",
       "255    71\n",
       "4      74\n",
       "73     76\n",
       "199    77\n",
       "Name: age, Length: 270, dtype: int64"
      ]
     },
     "execution_count": 20,
     "metadata": {},
     "output_type": "execute_result"
    }
   ],
   "source": [
    "df2"
   ]
  },
  {
   "cell_type": "code",
   "execution_count": 21,
   "metadata": {},
   "outputs": [
    {
     "data": {
      "text/plain": [
       "array([[<matplotlib.axes._subplots.AxesSubplot object at 0x7f2c5c734cc0>]], dtype=object)"
      ]
     },
     "execution_count": 21,
     "metadata": {},
     "output_type": "execute_result"
    },
    {
     "data": {
      "image/png": "[encoded data removed]",
      "text/plain": [
       "<matplotlib.figure.Figure at 0x7f2c5e1aacf8>"
      ]
     },
     "metadata": {},
     "output_type": "display_data"
    }
   ],
   "source": [
    "%matplotlib inline\n",
    "import matplotlib.pyplot as plt\n",
    "df.hist(column='age')"
   ]
  },
  {
   "cell_type": "code",
   "execution_count": 22,
   "metadata": {},
   "outputs": [
    {
     "data": {
      "text/plain": [
       "<matplotlib.axes._subplots.AxesSubplot at 0x7f2c5e1aa940>"
      ]
     },
     "execution_count": 22,
     "metadata": {},
     "output_type": "execute_result"
    },
    {
     "data": {
      "image/png": "[encoded data removed]",
      "text/plain": [
       "<matplotlib.figure.Figure at 0x7f2c5c4aea90>"
      ]
     },
     "metadata": {},
     "output_type": "display_data"
    }
   ],
   "source": [
    "df.age.plot.kde()"
   ]
  },
  {
   "cell_type": "code",
   "execution_count": 23,
   "metadata": {},
   "outputs": [
    {
     "name": "stderr",
     "output_type": "stream",
     "text": [
      "/home/user/anaconda3/lib/python3.6/site-packages/numpy/core/fromnumeric.py:57: FutureWarning: reshape is deprecated and will raise in a subsequent release. Please use .values.reshape(...) instead\n",
      "  return getattr(obj, method)(*args, **kwds)\n"
     ]
    },
    {
     "data": {
      "text/plain": [
       "<matplotlib.axes._subplots.AxesSubplot at 0x7f2c4cfb6cc0>"
      ]
     },
     "execution_count": 23,
     "metadata": {},
     "output_type": "execute_result"
    },
    {
     "data": {
      "image/png": "[encoded data removed]",
      "text/plain": [
       "<matplotlib.figure.Figure at 0x7f2c4cc45710>"
      ]
     },
     "metadata": {},
     "output_type": "display_data"
    }
   ],
   "source": [
    "df.boxplot(column='age' ,by='sexe')"
   ]
  },
  {
   "cell_type": "code",
   "execution_count": 24,
   "metadata": {},
   "outputs": [
    {
     "name": "stderr",
     "output_type": "stream",
     "text": [
      "/home/user/anaconda3/lib/python3.6/site-packages/ipykernel_launcher.py:2: FutureWarning: 'pandas.tools.plotting.scatter_matrix' is deprecated, import 'pandas.plotting.scatter_matrix' instead.\n",
      "  \n"
     ]
    },
    {
     "data": {
      "text/plain": [
       "array([[<matplotlib.axes._subplots.AxesSubplot object at 0x7f2c4cc4ac50>,\n",
       "        <matplotlib.axes._subplots.AxesSubplot object at 0x7f2c4cb54080>,\n",
       "        <matplotlib.axes._subplots.AxesSubplot object at 0x7f2c4cb0e080>,\n",
       "        <matplotlib.axes._subplots.AxesSubplot object at 0x7f2c4cac7080>],\n",
       "       [<matplotlib.axes._subplots.AxesSubplot object at 0x7f2c4ca82080>,\n",
       "        <matplotlib.axes._subplots.AxesSubplot object at 0x7f2c4ca820b8>,\n",
       "        <matplotlib.axes._subplots.AxesSubplot object at 0x7f2c4ca64a20>,\n",
       "        <matplotlib.axes._subplots.AxesSubplot object at 0x7f2c4ca1ba90>],\n",
       "       [<matplotlib.axes._subplots.AxesSubplot object at 0x7f2c4c9d7a90>,\n",
       "        <matplotlib.axes._subplots.AxesSubplot object at 0x7f2c4c9f4588>,\n",
       "        <matplotlib.axes._subplots.AxesSubplot object at 0x7f2c4c938f28>,\n",
       "        <matplotlib.axes._subplots.AxesSubplot object at 0x7f2c4c8f1f28>],\n",
       "       [<matplotlib.axes._subplots.AxesSubplot object at 0x7f2c4c8b9438>,\n",
       "        <matplotlib.axes._subplots.AxesSubplot object at 0x7f2c4c8f0978>,\n",
       "        <matplotlib.axes._subplots.AxesSubplot object at 0x7f2c4c89c7b8>,\n",
       "        <matplotlib.axes._subplots.AxesSubplot object at 0x7f2c4c8577b8>]], dtype=object)"
      ]
     },
     "execution_count": 24,
     "metadata": {},
     "output_type": "execute_result"
    },
    {
     "data": {
      "image/png": "[encoded data removed]",
      "text/plain": [
       "<matplotlib.figure.Figure at 0x7f2c4cbfb518>"
      ]
     },
     "metadata": {},
     "output_type": "display_data"
    }
   ],
   "source": [
    "df2=df.drop(['cholester','pic'], axis=1)\n",
    "pandas.tools.plotting.scatter_matrix(df2.select_dtypes(exclude=['object']))"
   ]
  },
  {
   "cell_type": "code",
   "execution_count": null,
   "metadata": {
    "collapsed": true
   },
   "outputs": [],
   "source": []
  }
 ],
 "metadata": {
  "kernelspec": {
   "display_name": "Python 3",
   "language": "python",
   "name": "python3"
  },
  "language_info": {
   "codemirror_mode": {
    "name": "ipython",
    "version": 3
   },
   "file_extension": ".py",
   "mimetype": "text/x-python",
   "name": "python",
   "nbconvert_exporter": "python",
   "pygments_lexer": "ipython3",
   "version": "3.6.3"
  }
 },
 "nbformat": 4,
 "nbformat_minor": 2
}
