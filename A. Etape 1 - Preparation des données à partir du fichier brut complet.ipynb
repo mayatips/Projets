{
 "cells": [
  {
   "cell_type": "code",
   "execution_count": 1,
   "metadata": {
    "collapsed": true
   },
   "outputs": [],
   "source": [
    "import pandas as pd, numpy as np, calendar as cal, datetime as dt"
   ]
  },
  {
   "cell_type": "markdown",
   "metadata": {},
   "source": [
    "\n",
    "## Chargement du fichier des données\n"
   ]
  },
  {
   "cell_type": "code",
   "execution_count": 2,
   "metadata": {
    "collapsed": true
   },
   "outputs": [],
   "source": [
    "df = pd.read_table(\"DATA/NEW/positionshistorique.csv\",sep =';',header = 0, parse_dates=[[1,2],[4,5]])"
   ]
  },
  {
   "cell_type": "code",
   "execution_count": 3,
   "metadata": {},
   "outputs": [
    {
     "data": {
      "text/plain": [
       "(2562750, 16)"
      ]
     },
     "execution_count": 3,
     "metadata": {},
     "output_type": "execute_result"
    }
   ],
   "source": [
    "# df.shape (2 562 750, 13)\n",
    "df.shape"
   ]
  },
  {
   "cell_type": "code",
   "execution_count": 4,
   "metadata": {},
   "outputs": [
    {
     "name": "stdout",
     "output_type": "stream",
     "text": [
      "<class 'pandas.core.frame.DataFrame'>\n",
      "RangeIndex: 2562750 entries, 0 to 2562749\n",
      "Data columns (total 16 columns):\n",
      "DateReception_HeureReception    datetime64[ns]\n",
      "DateGPS_HeureGPS                datetime64[ns]\n",
      "idBalise                        int64\n",
      "ModemId                         int64\n",
      "Longitude                       float64\n",
      "Latitude                        float64\n",
      "Vitesse                         int64\n",
      "Direction                       int64\n",
      "Altitude                        int64\n",
      "Satellites                      int64\n",
      "MessageId                       int64\n",
      "Puissance                       float64\n",
      "VoltageBatterie                 float64\n",
      "Distance                        int64\n",
      "Information1                    int64\n",
      "Information2                    int64\n",
      "dtypes: datetime64[ns](2), float64(4), int64(10)\n",
      "memory usage: 312.8 MB\n"
     ]
    }
   ],
   "source": [
    "df.info()"
   ]
  },
  {
   "cell_type": "code",
   "execution_count": 47,
   "metadata": {},
   "outputs": [
    {
     "data": {
      "text/html": [
       "<div>\n",
       "<style>\n",
       "    .dataframe thead tr:only-child th {\n",
       "        text-align: right;\n",
       "    }\n",
       "\n",
       "    .dataframe thead th {\n",
       "        text-align: left;\n",
       "    }\n",
       "\n",
       "    .dataframe tbody tr th {\n",
       "        vertical-align: top;\n",
       "    }\n",
       "</style>\n",
       "<table border=\"1\" class=\"dataframe\">\n",
       "  <thead>\n",
       "    <tr style=\"text-align: right;\">\n",
       "      <th></th>\n",
       "      <th>DateReception_HeureReception</th>\n",
       "      <th>DateGPS_HeureGPS</th>\n",
       "      <th>idBalise</th>\n",
       "      <th>Longitude</th>\n",
       "      <th>Latitude</th>\n",
       "      <th>Vitesse</th>\n",
       "      <th>Direction</th>\n",
       "      <th>Altitude</th>\n",
       "      <th>Satellites</th>\n",
       "      <th>MessageId</th>\n",
       "      <th>Puissance</th>\n",
       "      <th>VoltageBatterie</th>\n",
       "      <th>Distance</th>\n",
       "    </tr>\n",
       "  </thead>\n",
       "  <tbody>\n",
       "    <tr>\n",
       "      <th>0</th>\n",
       "      <td>2017-03-28 00:00:00</td>\n",
       "      <td>2017-03-28 00:00:00</td>\n",
       "      <td>10002</td>\n",
       "      <td>7.141758</td>\n",
       "      <td>43.667102</td>\n",
       "      <td>0</td>\n",
       "      <td>0</td>\n",
       "      <td>44</td>\n",
       "      <td>8</td>\n",
       "      <td>193</td>\n",
       "      <td>12.400</td>\n",
       "      <td>4.016</td>\n",
       "      <td>1863165</td>\n",
       "    </tr>\n",
       "    <tr>\n",
       "      <th>1</th>\n",
       "      <td>2017-09-23 00:00:00</td>\n",
       "      <td>2017-09-23 00:00:00</td>\n",
       "      <td>10002</td>\n",
       "      <td>7.141694</td>\n",
       "      <td>43.667259</td>\n",
       "      <td>0</td>\n",
       "      <td>133</td>\n",
       "      <td>9</td>\n",
       "      <td>7</td>\n",
       "      <td>193</td>\n",
       "      <td>12.464</td>\n",
       "      <td>4.080</td>\n",
       "      <td>16707014</td>\n",
       "    </tr>\n",
       "    <tr>\n",
       "      <th>2</th>\n",
       "      <td>2017-10-25 00:00:00</td>\n",
       "      <td>2017-10-25 00:00:00</td>\n",
       "      <td>10002</td>\n",
       "      <td>7.141691</td>\n",
       "      <td>43.667320</td>\n",
       "      <td>0</td>\n",
       "      <td>293</td>\n",
       "      <td>29</td>\n",
       "      <td>10</td>\n",
       "      <td>193</td>\n",
       "      <td>12.432</td>\n",
       "      <td>4.000</td>\n",
       "      <td>19294619</td>\n",
       "    </tr>\n",
       "    <tr>\n",
       "      <th>3</th>\n",
       "      <td>2017-08-29 00:00:01</td>\n",
       "      <td>2017-08-29 00:00:00</td>\n",
       "      <td>10002</td>\n",
       "      <td>7.141827</td>\n",
       "      <td>43.667064</td>\n",
       "      <td>0</td>\n",
       "      <td>52</td>\n",
       "      <td>39</td>\n",
       "      <td>8</td>\n",
       "      <td>202</td>\n",
       "      <td>12.528</td>\n",
       "      <td>4.000</td>\n",
       "      <td>14455936</td>\n",
       "    </tr>\n",
       "    <tr>\n",
       "      <th>4</th>\n",
       "      <td>2017-08-22 00:00:02</td>\n",
       "      <td>2017-08-21 23:59:51</td>\n",
       "      <td>10002</td>\n",
       "      <td>7.100679</td>\n",
       "      <td>43.685825</td>\n",
       "      <td>0</td>\n",
       "      <td>318</td>\n",
       "      <td>82</td>\n",
       "      <td>0</td>\n",
       "      <td>179</td>\n",
       "      <td>12.576</td>\n",
       "      <td>4.016</td>\n",
       "      <td>13836839</td>\n",
       "    </tr>\n",
       "  </tbody>\n",
       "</table>\n",
       "</div>"
      ],
      "text/plain": [
       "  DateReception_HeureReception    DateGPS_HeureGPS  idBalise  Longitude  \\\n",
       "0          2017-03-28 00:00:00 2017-03-28 00:00:00     10002   7.141758   \n",
       "1          2017-09-23 00:00:00 2017-09-23 00:00:00     10002   7.141694   \n",
       "2          2017-10-25 00:00:00 2017-10-25 00:00:00     10002   7.141691   \n",
       "3          2017-08-29 00:00:01 2017-08-29 00:00:00     10002   7.141827   \n",
       "4          2017-08-22 00:00:02 2017-08-21 23:59:51     10002   7.100679   \n",
       "\n",
       "    Latitude  Vitesse  Direction  Altitude  Satellites  MessageId  Puissance  \\\n",
       "0  43.667102        0          0        44           8        193     12.400   \n",
       "1  43.667259        0        133         9           7        193     12.464   \n",
       "2  43.667320        0        293        29          10        193     12.432   \n",
       "3  43.667064        0         52        39           8        202     12.528   \n",
       "4  43.685825        0        318        82           0        179     12.576   \n",
       "\n",
       "   VoltageBatterie  Distance  \n",
       "0            4.016   1863165  \n",
       "1            4.080  16707014  \n",
       "2            4.000  19294619  \n",
       "3            4.000  14455936  \n",
       "4            4.016  13836839  "
      ]
     },
     "execution_count": 47,
     "metadata": {},
     "output_type": "execute_result"
    }
   ],
   "source": [
    "df.head()"
   ]
  },
  {
   "cell_type": "code",
   "execution_count": 49,
   "metadata": {},
   "outputs": [
    {
     "data": {
      "text/plain": [
       "DateReception_HeureReception    2562750\n",
       "DateGPS_HeureGPS                2562750\n",
       "idBalise                        2562750\n",
       "Longitude                       2562750\n",
       "Latitude                        2562750\n",
       "Vitesse                         2562750\n",
       "Direction                       2562750\n",
       "Altitude                        2562750\n",
       "Satellites                      2562750\n",
       "MessageId                       2562750\n",
       "Puissance                       2562750\n",
       "VoltageBatterie                 2562750\n",
       "Distance                        2562750\n",
       "dtype: int64"
      ]
     },
     "execution_count": 49,
     "metadata": {},
     "output_type": "execute_result"
    }
   ],
   "source": [
    "df.count()"
   ]
  },
  {
   "cell_type": "markdown",
   "metadata": {},
   "source": [
    "# Filtre"
   ]
  },
  {
   "cell_type": "code",
   "execution_count": 5,
   "metadata": {},
   "outputs": [],
   "source": [
    "df.drop(['ModemId', 'Information1', 'Information2'], axis = 1, inplace = True) "
   ]
  },
  {
   "cell_type": "code",
   "execution_count": 6,
   "metadata": {
    "collapsed": true
   },
   "outputs": [],
   "source": [
    "start_date =dt.date(2017, 12, 31)\n",
    "end_date=dt.date(2018, 1, 31)\n",
    "mask = (df['DateGPS_HeureGPS'] > start_date) & (df['DateGPS_HeureGPS'] <= end_date)\n",
    "df_selected_data= df.loc[mask]"
   ]
  },
  {
   "cell_type": "code",
   "execution_count": 7,
   "metadata": {
    "collapsed": true
   },
   "outputs": [],
   "source": [
    "selected_data=df_selected_data[df_selected_data['idBalise'].isin([10002, 10004, 10006, 10008, 10009, 10010, 10011, 11002, 11003, 11004, 11005, 11007, 11008, 12001, 12002, 12003, 12004, 12005, 12006, 12007, 12008, 12009, 12010])]"
   ]
  },
  {
   "cell_type": "code",
   "execution_count": 8,
   "metadata": {},
   "outputs": [
    {
     "data": {
      "text/plain": [
       "(166308, 13)"
      ]
     },
     "execution_count": 8,
     "metadata": {},
     "output_type": "execute_result"
    }
   ],
   "source": [
    "selected_data.shape"
   ]
  },
  {
   "cell_type": "code",
   "execution_count": 9,
   "metadata": {
    "collapsed": true
   },
   "outputs": [],
   "source": [
    "selected_data.to_csv('DATA/PREPADATA/positionshistoriqueFiltre.csv', sep = ';',index = False)"
   ]
  },
  {
   "cell_type": "markdown",
   "metadata": {},
   "source": [
    "## Tri (effectué manuellement dans open office )\n",
    "### Clé de tri : idBalise/DateHeureGPS/DateHeureReception"
   ]
  },
  {
   "cell_type": "code",
   "execution_count": 10,
   "metadata": {
    "collapsed": true
   },
   "outputs": [],
   "source": [
    "df_filtre_triee = pd.read_table(\"DATA/PREPADATA/positionshistoriqueFiltreTriee.csv\",sep =';',header = 0, parse_dates=[0,1])"
   ]
  },
  {
   "cell_type": "code",
   "execution_count": 11,
   "metadata": {
    "collapsed": true
   },
   "outputs": [
    {
     "name": "stdout",
     "output_type": "stream",
     "text": [
      "<class 'pandas.core.frame.DataFrame'>\n",
      "RangeIndex: 166308 entries, 0 to 166307\n",
      "Data columns (total 13 columns):\n",
      "DateReception_HeureReception    166308 non-null datetime64[ns]\n",
      "DateGPS_HeureGPS                166308 non-null datetime64[ns]\n",
      "idBalise                        166308 non-null int64\n",
      "Longitude                       166308 non-null float64\n",
      "Latitude                        166308 non-null float64\n",
      "Vitesse                         166308 non-null int64\n",
      "Direction                       166308 non-null int64\n",
      "Altitude                        166308 non-null int64\n",
      "Satellites                      166308 non-null int64\n",
      "MessageId                       166308 non-null int64\n",
      "Puissance                       166308 non-null float64\n",
      "VoltageBatterie                 166308 non-null float64\n",
      "Distance                        166308 non-null int64\n",
      "dtypes: datetime64[ns](2), float64(4), int64(7)\n",
      "memory usage: 16.5 MB\n"
     ]
    }
   ],
   "source": [
    "df_filtre_triee.info()"
   ]
  },
  {
   "cell_type": "code",
   "execution_count": 12,
   "metadata": {
    "collapsed": true
   },
   "outputs": [
    {
     "data": {
      "text/html": [
       "<div>\n",
       "<style>\n",
       "    .dataframe thead tr:only-child th {\n",
       "        text-align: right;\n",
       "    }\n",
       "\n",
       "    .dataframe thead th {\n",
       "        text-align: left;\n",
       "    }\n",
       "\n",
       "    .dataframe tbody tr th {\n",
       "        vertical-align: top;\n",
       "    }\n",
       "</style>\n",
       "<table border=\"1\" class=\"dataframe\">\n",
       "  <thead>\n",
       "    <tr style=\"text-align: right;\">\n",
       "      <th></th>\n",
       "      <th>DateReception_HeureReception</th>\n",
       "      <th>DateGPS_HeureGPS</th>\n",
       "      <th>idBalise</th>\n",
       "      <th>Longitude</th>\n",
       "      <th>Latitude</th>\n",
       "      <th>Vitesse</th>\n",
       "      <th>Direction</th>\n",
       "      <th>Altitude</th>\n",
       "      <th>Satellites</th>\n",
       "      <th>MessageId</th>\n",
       "      <th>Puissance</th>\n",
       "      <th>VoltageBatterie</th>\n",
       "      <th>Distance</th>\n",
       "    </tr>\n",
       "  </thead>\n",
       "  <tbody>\n",
       "    <tr>\n",
       "      <th>166303</th>\n",
       "      <td>2018-01-30 20:24:41</td>\n",
       "      <td>2018-01-30 20:23:07</td>\n",
       "      <td>12010</td>\n",
       "      <td>5.388467</td>\n",
       "      <td>43.287719</td>\n",
       "      <td>14</td>\n",
       "      <td>331</td>\n",
       "      <td>24</td>\n",
       "      <td>0</td>\n",
       "      <td>194</td>\n",
       "      <td>12.656</td>\n",
       "      <td>4.032</td>\n",
       "      <td>18777088</td>\n",
       "    </tr>\n",
       "    <tr>\n",
       "      <th>166304</th>\n",
       "      <td>2018-01-30 20:26:07</td>\n",
       "      <td>2018-01-30 20:26:07</td>\n",
       "      <td>12010</td>\n",
       "      <td>5.388467</td>\n",
       "      <td>43.287719</td>\n",
       "      <td>14</td>\n",
       "      <td>331</td>\n",
       "      <td>24</td>\n",
       "      <td>0</td>\n",
       "      <td>202</td>\n",
       "      <td>12.656</td>\n",
       "      <td>4.144</td>\n",
       "      <td>18777088</td>\n",
       "    </tr>\n",
       "    <tr>\n",
       "      <th>166305</th>\n",
       "      <td>2018-01-30 22:29:22</td>\n",
       "      <td>2018-01-30 22:26:19</td>\n",
       "      <td>12010</td>\n",
       "      <td>5.388467</td>\n",
       "      <td>43.287719</td>\n",
       "      <td>14</td>\n",
       "      <td>331</td>\n",
       "      <td>24</td>\n",
       "      <td>0</td>\n",
       "      <td>194</td>\n",
       "      <td>12.624</td>\n",
       "      <td>4.144</td>\n",
       "      <td>18777088</td>\n",
       "    </tr>\n",
       "    <tr>\n",
       "      <th>166306</th>\n",
       "      <td>2018-01-31 00:36:50</td>\n",
       "      <td>2018-01-30 22:26:19</td>\n",
       "      <td>12010</td>\n",
       "      <td>5.388467</td>\n",
       "      <td>43.287719</td>\n",
       "      <td>14</td>\n",
       "      <td>331</td>\n",
       "      <td>24</td>\n",
       "      <td>0</td>\n",
       "      <td>194</td>\n",
       "      <td>12.624</td>\n",
       "      <td>4.144</td>\n",
       "      <td>18777088</td>\n",
       "    </tr>\n",
       "    <tr>\n",
       "      <th>166307</th>\n",
       "      <td>2018-01-31 00:36:52</td>\n",
       "      <td>2018-01-30 22:30:01</td>\n",
       "      <td>12010</td>\n",
       "      <td>5.388467</td>\n",
       "      <td>43.287719</td>\n",
       "      <td>14</td>\n",
       "      <td>331</td>\n",
       "      <td>24</td>\n",
       "      <td>0</td>\n",
       "      <td>202</td>\n",
       "      <td>12.592</td>\n",
       "      <td>4.128</td>\n",
       "      <td>18777088</td>\n",
       "    </tr>\n",
       "  </tbody>\n",
       "</table>\n",
       "</div>"
      ],
      "text/plain": [
       "       DateReception_HeureReception    DateGPS_HeureGPS  idBalise  Longitude  \\\n",
       "166303          2018-01-30 20:24:41 2018-01-30 20:23:07     12010   5.388467   \n",
       "166304          2018-01-30 20:26:07 2018-01-30 20:26:07     12010   5.388467   \n",
       "166305          2018-01-30 22:29:22 2018-01-30 22:26:19     12010   5.388467   \n",
       "166306          2018-01-31 00:36:50 2018-01-30 22:26:19     12010   5.388467   \n",
       "166307          2018-01-31 00:36:52 2018-01-30 22:30:01     12010   5.388467   \n",
       "\n",
       "         Latitude  Vitesse  Direction  Altitude  Satellites  MessageId  \\\n",
       "166303  43.287719       14        331        24           0        194   \n",
       "166304  43.287719       14        331        24           0        202   \n",
       "166305  43.287719       14        331        24           0        194   \n",
       "166306  43.287719       14        331        24           0        194   \n",
       "166307  43.287719       14        331        24           0        202   \n",
       "\n",
       "        Puissance  VoltageBatterie  Distance  \n",
       "166303     12.656            4.032  18777088  \n",
       "166304     12.656            4.144  18777088  \n",
       "166305     12.624            4.144  18777088  \n",
       "166306     12.624            4.144  18777088  \n",
       "166307     12.592            4.128  18777088  "
      ]
     },
     "execution_count": 12,
     "metadata": {},
     "output_type": "execute_result"
    }
   ],
   "source": [
    "df_filtre_triee.tail()\n",
    "#tri effectué avec open office puis enregistré\n",
    "\n",
    "#selected_data.sort_values(['idBalise', 'DateGPS_HeureGPS','DateReception_HeureReception'], ascending=[True, True, True])\n",
    "#df.sort_values(['idBalise', 'DateGPS_HeureGPS','DateReception_HeureReception'], ascending=[True, True, True])"
   ]
  },
  {
   "cell_type": "code",
   "execution_count": 13,
   "metadata": {},
   "outputs": [
    {
     "data": {
      "text/plain": [
       "(166308, 13)"
      ]
     },
     "execution_count": 13,
     "metadata": {},
     "output_type": "execute_result"
    }
   ],
   "source": [
    "df_filtre_triee.shape"
   ]
  },
  {
   "cell_type": "markdown",
   "metadata": {},
   "source": [
    "# Dedoublonage"
   ]
  },
  {
   "cell_type": "code",
   "execution_count": 14,
   "metadata": {
    "collapsed": true
   },
   "outputs": [
    {
     "data": {
      "text/plain": [
       "0         False\n",
       "1         False\n",
       "2         False\n",
       "3         False\n",
       "4         False\n",
       "5         False\n",
       "6         False\n",
       "7         False\n",
       "8         False\n",
       "9         False\n",
       "10        False\n",
       "11        False\n",
       "12        False\n",
       "13        False\n",
       "14        False\n",
       "15        False\n",
       "16        False\n",
       "17        False\n",
       "18         True\n",
       "19        False\n",
       "20        False\n",
       "21        False\n",
       "22        False\n",
       "23        False\n",
       "24        False\n",
       "25        False\n",
       "26        False\n",
       "27        False\n",
       "28        False\n",
       "29        False\n",
       "          ...  \n",
       "166278    False\n",
       "166279    False\n",
       "166280    False\n",
       "166281    False\n",
       "166282    False\n",
       "166283    False\n",
       "166284    False\n",
       "166285    False\n",
       "166286    False\n",
       "166287    False\n",
       "166288    False\n",
       "166289    False\n",
       "166290    False\n",
       "166291    False\n",
       "166292    False\n",
       "166293    False\n",
       "166294    False\n",
       "166295    False\n",
       "166296    False\n",
       "166297    False\n",
       "166298    False\n",
       "166299    False\n",
       "166300    False\n",
       "166301    False\n",
       "166302    False\n",
       "166303    False\n",
       "166304    False\n",
       "166305    False\n",
       "166306     True\n",
       "166307    False\n",
       "Length: 166308, dtype: bool"
      ]
     },
     "execution_count": 14,
     "metadata": {},
     "output_type": "execute_result"
    }
   ],
   "source": [
    "#dedoublonnage 1 df_filtre vérifier si existe des doublons\n",
    "valuelist = ['idBalise','DateGPS_HeureGPS',\n",
    "       'Longitude', 'Latitude', 'Vitesse', 'Direction', 'Altitude',\n",
    "       'Satellites', 'MessageId', 'Puissance', 'VoltageBatterie', 'Distance']\n",
    "df_filtre_triee.duplicated(subset=valuelist, keep='first')"
   ]
  },
  {
   "cell_type": "code",
   "execution_count": 15,
   "metadata": {
    "collapsed": true
   },
   "outputs": [],
   "source": [
    "#dedoublonnage 2 df_filtre executer le dedoublonage\n",
    "\n",
    "valuelist = ['idBalise','DateGPS_HeureGPS',\n",
    "       'Longitude', 'Latitude', 'Vitesse', 'Direction', 'Altitude',\n",
    "       'Satellites', 'MessageId', 'Puissance', 'VoltageBatterie', 'Distance']\n",
    "df_unique=df_filtre_triee.drop_duplicates(subset=valuelist, keep='first')"
   ]
  },
  {
   "cell_type": "code",
   "execution_count": 16,
   "metadata": {},
   "outputs": [
    {
     "data": {
      "text/plain": [
       "(165992, 13)"
      ]
     },
     "execution_count": 16,
     "metadata": {},
     "output_type": "execute_result"
    }
   ],
   "source": [
    "df_unique.shape"
   ]
  },
  {
   "cell_type": "markdown",
   "metadata": {},
   "source": [
    "# Sauvegarde dans un fichier"
   ]
  },
  {
   "cell_type": "code",
   "execution_count": 17,
   "metadata": {},
   "outputs": [],
   "source": [
    "df_unique.to_csv('DATA/PREPADATA/positionshistoriqueFiltreTrieeUnique.csv', sep = ';',index = False)"
   ]
  },
  {
   "cell_type": "markdown",
   "metadata": {},
   "source": [
    "# Vérification de la qualité de la variable à calculer"
   ]
  },
  {
   "cell_type": "code",
   "execution_count": 75,
   "metadata": {
    "collapsed": true
   },
   "outputs": [],
   "source": [
    "data=df_unique.copy()\n",
    "#pd.read_table(\"DATA/PREPADATA/positionshistoriqueFiltreTriee.csv\",sep =';',header = 0, parse_dates=[0,1])"
   ]
  },
  {
   "cell_type": "code",
   "execution_count": 79,
   "metadata": {
    "collapsed": true
   },
   "outputs": [],
   "source": [
    "data[\"DelaiTransmission\"] =data.apply ( lambda row : ( int((row[\"DateReception_HeureReception\"]-row[\"DateGPS_HeureGPS\"]).total_seconds() ) )  , axis = 1 )"
   ]
  },
  {
   "cell_type": "code",
   "execution_count": 80,
   "metadata": {},
   "outputs": [
    {
     "data": {
      "text/plain": [
       "(31, 14)"
      ]
     },
     "execution_count": 80,
     "metadata": {},
     "output_type": "execute_result"
    }
   ],
   "source": [
    "data[data['DelaiTransmission'] < 0].shape"
   ]
  },
  {
   "cell_type": "code",
   "execution_count": 81,
   "metadata": {},
   "outputs": [
    {
     "data": {
      "text/plain": [
       "(15729, 14)"
      ]
     },
     "execution_count": 81,
     "metadata": {},
     "output_type": "execute_result"
    }
   ],
   "source": [
    "data[data['DelaiTransmission'] > 60].shape"
   ]
  }
 ],
 "metadata": {
  "kernelspec": {
   "display_name": "Python 3",
   "language": "python",
   "name": "python3"
  },
  "language_info": {
   "codemirror_mode": {
    "name": "ipython",
    "version": 3
   },
   "file_extension": ".py",
   "mimetype": "text/x-python",
   "name": "python",
   "nbconvert_exporter": "python",
   "pygments_lexer": "ipython3",
   "version": "3.6.3"
  }
 },
 "nbformat": 4,
 "nbformat_minor": 2
}
