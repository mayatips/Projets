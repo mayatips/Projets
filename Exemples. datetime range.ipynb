{
 "cells": [
  {
   "cell_type": "code",
   "execution_count": 1,
   "metadata": {
    "collapsed": true
   },
   "outputs": [],
   "source": [
    "import  calendar as cal, datetime as dt"
   ]
  },
  {
   "cell_type": "code",
   "execution_count": 6,
   "metadata": {},
   "outputs": [
    {
     "data": {
      "text/plain": [
       "10"
      ]
     },
     "execution_count": 6,
     "metadata": {},
     "output_type": "execute_result"
    }
   ],
   "source": [
    "a.hour\n"
   ]
  },
  {
   "cell_type": "code",
   "execution_count": 2,
   "metadata": {},
   "outputs": [
    {
     "name": "stdout",
     "output_type": "stream",
     "text": [
      "[datetime.datetime(2018, 4, 30, 10, 58, 57, 63246), datetime.datetime(2018, 4, 29, 10, 58, 57, 63246), datetime.datetime(2018, 4, 28, 10, 58, 57, 63246), datetime.datetime(2018, 4, 27, 10, 58, 57, 63246), datetime.datetime(2018, 4, 26, 10, 58, 57, 63246), datetime.datetime(2018, 4, 25, 10, 58, 57, 63246), datetime.datetime(2018, 4, 24, 10, 58, 57, 63246), datetime.datetime(2018, 4, 23, 10, 58, 57, 63246), datetime.datetime(2018, 4, 22, 10, 58, 57, 63246), datetime.datetime(2018, 4, 21, 10, 58, 57, 63246), datetime.datetime(2018, 4, 20, 10, 58, 57, 63246), datetime.datetime(2018, 4, 19, 10, 58, 57, 63246), datetime.datetime(2018, 4, 18, 10, 58, 57, 63246), datetime.datetime(2018, 4, 17, 10, 58, 57, 63246), datetime.datetime(2018, 4, 16, 10, 58, 57, 63246), datetime.datetime(2018, 4, 15, 10, 58, 57, 63246), datetime.datetime(2018, 4, 14, 10, 58, 57, 63246), datetime.datetime(2018, 4, 13, 10, 58, 57, 63246), datetime.datetime(2018, 4, 12, 10, 58, 57, 63246), datetime.datetime(2018, 4, 11, 10, 58, 57, 63246), datetime.datetime(2018, 4, 10, 10, 58, 57, 63246), datetime.datetime(2018, 4, 9, 10, 58, 57, 63246), datetime.datetime(2018, 4, 8, 10, 58, 57, 63246), datetime.datetime(2018, 4, 7, 10, 58, 57, 63246), datetime.datetime(2018, 4, 6, 10, 58, 57, 63246), datetime.datetime(2018, 4, 5, 10, 58, 57, 63246), datetime.datetime(2018, 4, 4, 10, 58, 57, 63246), datetime.datetime(2018, 4, 3, 10, 58, 57, 63246), datetime.datetime(2018, 4, 2, 10, 58, 57, 63246), datetime.datetime(2018, 4, 1, 10, 58, 57, 63246), datetime.datetime(2018, 3, 31, 10, 58, 57, 63246), datetime.datetime(2018, 3, 30, 10, 58, 57, 63246), datetime.datetime(2018, 3, 29, 10, 58, 57, 63246), datetime.datetime(2018, 3, 28, 10, 58, 57, 63246), datetime.datetime(2018, 3, 27, 10, 58, 57, 63246), datetime.datetime(2018, 3, 26, 10, 58, 57, 63246), datetime.datetime(2018, 3, 25, 10, 58, 57, 63246), datetime.datetime(2018, 3, 24, 10, 58, 57, 63246), datetime.datetime(2018, 3, 23, 10, 58, 57, 63246), datetime.datetime(2018, 3, 22, 10, 58, 57, 63246), datetime.datetime(2018, 3, 21, 10, 58, 57, 63246), datetime.datetime(2018, 3, 20, 10, 58, 57, 63246), datetime.datetime(2018, 3, 19, 10, 58, 57, 63246), datetime.datetime(2018, 3, 18, 10, 58, 57, 63246), datetime.datetime(2018, 3, 17, 10, 58, 57, 63246), datetime.datetime(2018, 3, 16, 10, 58, 57, 63246), datetime.datetime(2018, 3, 15, 10, 58, 57, 63246), datetime.datetime(2018, 3, 14, 10, 58, 57, 63246), datetime.datetime(2018, 3, 13, 10, 58, 57, 63246), datetime.datetime(2018, 3, 12, 10, 58, 57, 63246), datetime.datetime(2018, 3, 11, 10, 58, 57, 63246), datetime.datetime(2018, 3, 10, 10, 58, 57, 63246), datetime.datetime(2018, 3, 9, 10, 58, 57, 63246), datetime.datetime(2018, 3, 8, 10, 58, 57, 63246), datetime.datetime(2018, 3, 7, 10, 58, 57, 63246), datetime.datetime(2018, 3, 6, 10, 58, 57, 63246), datetime.datetime(2018, 3, 5, 10, 58, 57, 63246), datetime.datetime(2018, 3, 4, 10, 58, 57, 63246), datetime.datetime(2018, 3, 3, 10, 58, 57, 63246), datetime.datetime(2018, 3, 2, 10, 58, 57, 63246), datetime.datetime(2018, 3, 1, 10, 58, 57, 63246), datetime.datetime(2018, 2, 28, 10, 58, 57, 63246), datetime.datetime(2018, 2, 27, 10, 58, 57, 63246), datetime.datetime(2018, 2, 26, 10, 58, 57, 63246), datetime.datetime(2018, 2, 25, 10, 58, 57, 63246), datetime.datetime(2018, 2, 24, 10, 58, 57, 63246), datetime.datetime(2018, 2, 23, 10, 58, 57, 63246), datetime.datetime(2018, 2, 22, 10, 58, 57, 63246), datetime.datetime(2018, 2, 21, 10, 58, 57, 63246), datetime.datetime(2018, 2, 20, 10, 58, 57, 63246), datetime.datetime(2018, 2, 19, 10, 58, 57, 63246), datetime.datetime(2018, 2, 18, 10, 58, 57, 63246), datetime.datetime(2018, 2, 17, 10, 58, 57, 63246), datetime.datetime(2018, 2, 16, 10, 58, 57, 63246), datetime.datetime(2018, 2, 15, 10, 58, 57, 63246), datetime.datetime(2018, 2, 14, 10, 58, 57, 63246), datetime.datetime(2018, 2, 13, 10, 58, 57, 63246), datetime.datetime(2018, 2, 12, 10, 58, 57, 63246), datetime.datetime(2018, 2, 11, 10, 58, 57, 63246), datetime.datetime(2018, 2, 10, 10, 58, 57, 63246), datetime.datetime(2018, 2, 9, 10, 58, 57, 63246), datetime.datetime(2018, 2, 8, 10, 58, 57, 63246), datetime.datetime(2018, 2, 7, 10, 58, 57, 63246), datetime.datetime(2018, 2, 6, 10, 58, 57, 63246), datetime.datetime(2018, 2, 5, 10, 58, 57, 63246), datetime.datetime(2018, 2, 4, 10, 58, 57, 63246), datetime.datetime(2018, 2, 3, 10, 58, 57, 63246), datetime.datetime(2018, 2, 2, 10, 58, 57, 63246), datetime.datetime(2018, 2, 1, 10, 58, 57, 63246), datetime.datetime(2018, 1, 31, 10, 58, 57, 63246), datetime.datetime(2018, 1, 30, 10, 58, 57, 63246), datetime.datetime(2018, 1, 29, 10, 58, 57, 63246), datetime.datetime(2018, 1, 28, 10, 58, 57, 63246), datetime.datetime(2018, 1, 27, 10, 58, 57, 63246), datetime.datetime(2018, 1, 26, 10, 58, 57, 63246), datetime.datetime(2018, 1, 25, 10, 58, 57, 63246), datetime.datetime(2018, 1, 24, 10, 58, 57, 63246), datetime.datetime(2018, 1, 23, 10, 58, 57, 63246), datetime.datetime(2018, 1, 22, 10, 58, 57, 63246), datetime.datetime(2018, 1, 21, 10, 58, 57, 63246), datetime.datetime(2018, 4, 30, 10, 58, 57, 63190), datetime.datetime(2018, 4, 29, 10, 58, 57, 63190), datetime.datetime(2018, 4, 28, 10, 58, 57, 63190), datetime.datetime(2018, 4, 27, 10, 58, 57, 63190), datetime.datetime(2018, 4, 26, 10, 58, 57, 63190), datetime.datetime(2018, 4, 25, 10, 58, 57, 63190), datetime.datetime(2018, 4, 24, 10, 58, 57, 63190), datetime.datetime(2018, 4, 23, 10, 58, 57, 63190), datetime.datetime(2018, 4, 22, 10, 58, 57, 63190), datetime.datetime(2018, 4, 21, 10, 58, 57, 63190), datetime.datetime(2018, 4, 20, 10, 58, 57, 63190), datetime.datetime(2018, 4, 19, 10, 58, 57, 63190), datetime.datetime(2018, 4, 18, 10, 58, 57, 63190), datetime.datetime(2018, 4, 17, 10, 58, 57, 63190), datetime.datetime(2018, 4, 16, 10, 58, 57, 63190), datetime.datetime(2018, 4, 15, 10, 58, 57, 63190), datetime.datetime(2018, 4, 14, 10, 58, 57, 63190), datetime.datetime(2018, 4, 13, 10, 58, 57, 63190), datetime.datetime(2018, 4, 12, 10, 58, 57, 63190), datetime.datetime(2018, 4, 11, 10, 58, 57, 63190), datetime.datetime(2018, 4, 10, 10, 58, 57, 63190), datetime.datetime(2018, 4, 9, 10, 58, 57, 63190), datetime.datetime(2018, 4, 8, 10, 58, 57, 63190), datetime.datetime(2018, 4, 7, 10, 58, 57, 63190), datetime.datetime(2018, 4, 6, 10, 58, 57, 63190), datetime.datetime(2018, 4, 5, 10, 58, 57, 63190), datetime.datetime(2018, 4, 4, 10, 58, 57, 63190), datetime.datetime(2018, 4, 3, 10, 58, 57, 63190), datetime.datetime(2018, 4, 2, 10, 58, 57, 63190), datetime.datetime(2018, 4, 1, 10, 58, 57, 63190), datetime.datetime(2018, 3, 31, 10, 58, 57, 63190), datetime.datetime(2018, 3, 30, 10, 58, 57, 63190), datetime.datetime(2018, 3, 29, 10, 58, 57, 63190), datetime.datetime(2018, 3, 28, 10, 58, 57, 63190), datetime.datetime(2018, 3, 27, 10, 58, 57, 63190), datetime.datetime(2018, 3, 26, 10, 58, 57, 63190), datetime.datetime(2018, 3, 25, 10, 58, 57, 63190), datetime.datetime(2018, 3, 24, 10, 58, 57, 63190), datetime.datetime(2018, 3, 23, 10, 58, 57, 63190), datetime.datetime(2018, 3, 22, 10, 58, 57, 63190), datetime.datetime(2018, 3, 21, 10, 58, 57, 63190), datetime.datetime(2018, 3, 20, 10, 58, 57, 63190), datetime.datetime(2018, 3, 19, 10, 58, 57, 63190), datetime.datetime(2018, 3, 18, 10, 58, 57, 63190), datetime.datetime(2018, 3, 17, 10, 58, 57, 63190), datetime.datetime(2018, 3, 16, 10, 58, 57, 63190), datetime.datetime(2018, 3, 15, 10, 58, 57, 63190), datetime.datetime(2018, 3, 14, 10, 58, 57, 63190), datetime.datetime(2018, 3, 13, 10, 58, 57, 63190), datetime.datetime(2018, 3, 12, 10, 58, 57, 63190), datetime.datetime(2018, 3, 11, 10, 58, 57, 63190), datetime.datetime(2018, 3, 10, 10, 58, 57, 63190), datetime.datetime(2018, 3, 9, 10, 58, 57, 63190), datetime.datetime(2018, 3, 8, 10, 58, 57, 63190), datetime.datetime(2018, 3, 7, 10, 58, 57, 63190), datetime.datetime(2018, 3, 6, 10, 58, 57, 63190), datetime.datetime(2018, 3, 5, 10, 58, 57, 63190), datetime.datetime(2018, 3, 4, 10, 58, 57, 63190), datetime.datetime(2018, 3, 3, 10, 58, 57, 63190), datetime.datetime(2018, 3, 2, 10, 58, 57, 63190), datetime.datetime(2018, 3, 1, 10, 58, 57, 63190), datetime.datetime(2018, 2, 28, 10, 58, 57, 63190), datetime.datetime(2018, 2, 27, 10, 58, 57, 63190), datetime.datetime(2018, 2, 26, 10, 58, 57, 63190), datetime.datetime(2018, 2, 25, 10, 58, 57, 63190), datetime.datetime(2018, 2, 24, 10, 58, 57, 63190), datetime.datetime(2018, 2, 23, 10, 58, 57, 63190), datetime.datetime(2018, 2, 22, 10, 58, 57, 63190), datetime.datetime(2018, 2, 21, 10, 58, 57, 63190), datetime.datetime(2018, 2, 20, 10, 58, 57, 63190), datetime.datetime(2018, 2, 19, 10, 58, 57, 63190), datetime.datetime(2018, 2, 18, 10, 58, 57, 63190), datetime.datetime(2018, 2, 17, 10, 58, 57, 63190), datetime.datetime(2018, 2, 16, 10, 58, 57, 63190), datetime.datetime(2018, 2, 15, 10, 58, 57, 63190), datetime.datetime(2018, 2, 14, 10, 58, 57, 63190), datetime.datetime(2018, 2, 13, 10, 58, 57, 63190), datetime.datetime(2018, 2, 12, 10, 58, 57, 63190), datetime.datetime(2018, 2, 11, 10, 58, 57, 63190), datetime.datetime(2018, 2, 10, 10, 58, 57, 63190), datetime.datetime(2018, 2, 9, 10, 58, 57, 63190), datetime.datetime(2018, 2, 8, 10, 58, 57, 63190), datetime.datetime(2018, 2, 7, 10, 58, 57, 63190), datetime.datetime(2018, 2, 6, 10, 58, 57, 63190), datetime.datetime(2018, 2, 5, 10, 58, 57, 63190), datetime.datetime(2018, 2, 4, 10, 58, 57, 63190), datetime.datetime(2018, 2, 3, 10, 58, 57, 63190), datetime.datetime(2018, 2, 2, 10, 58, 57, 63190), datetime.datetime(2018, 2, 1, 10, 58, 57, 63190), datetime.datetime(2018, 1, 31, 10, 58, 57, 63190), datetime.datetime(2018, 1, 30, 10, 58, 57, 63190), datetime.datetime(2018, 1, 29, 10, 58, 57, 63190), datetime.datetime(2018, 1, 28, 10, 58, 57, 63190), datetime.datetime(2018, 1, 27, 10, 58, 57, 63190), datetime.datetime(2018, 1, 26, 10, 58, 57, 63190), datetime.datetime(2018, 1, 25, 10, 58, 57, 63190), datetime.datetime(2018, 1, 24, 10, 58, 57, 63190), datetime.datetime(2018, 1, 23, 10, 58, 57, 63190), datetime.datetime(2018, 1, 22, 10, 58, 57, 63190), datetime.datetime(2018, 1, 21, 10, 58, 57, 63190)]\n"
     ]
    }
   ],
   "source": [
    "import datetime\n",
    "\n",
    "a = datetime.datetime.today()\n",
    "numdays = 100\n",
    "base = datetime.datetime.today()\n",
    "dateList = [base - datetime.timedelta(days=x) for x in range(0, numdays)]\n",
    "\n",
    "for x in range (0, numdays):\n",
    "    dateList.append(a - datetime.timedelta(days = x))\n",
    "print (dateList)"
   ]
  },
  {
   "cell_type": "code",
   "execution_count": null,
   "metadata": {
    "collapsed": true
   },
   "outputs": [],
   "source": [
    "import datetime\n",
    "\n",
    "a = datetime.datetime.today()\n",
    "numdays = 100\n",
    "base = datetime.datetime.today()\n",
    "dateList = [base - datetime.timedelta(days=x) for x in range(0, numdays)]\n",
    "\n",
    "for x in range (0, numdays):\n",
    "    dateList.append(a - datetime.timedelta(days = x))\n",
    "print (dateList)"
   ]
  },
  {
   "cell_type": "code",
   "execution_count": null,
   "metadata": {
    "collapsed": true
   },
   "outputs": [],
   "source": []
  }
 ],
 "metadata": {
  "kernelspec": {
   "display_name": "Python 3",
   "language": "python",
   "name": "python3"
  },
  "language_info": {
   "codemirror_mode": {
    "name": "ipython",
    "version": 3
   },
   "file_extension": ".py",
   "mimetype": "text/x-python",
   "name": "python",
   "nbconvert_exporter": "python",
   "pygments_lexer": "ipython3",
   "version": "3.6.3"
  }
 },
 "nbformat": 4,
 "nbformat_minor": 2
}
