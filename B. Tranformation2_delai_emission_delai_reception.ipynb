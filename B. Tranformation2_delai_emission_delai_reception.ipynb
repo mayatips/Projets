{
 "cells": [
  {
   "cell_type": "markdown",
   "metadata": {},
   "source": [
    "# Transformation N°2 : calcul des délais d'émission de la balise et des délai de réception du serveur"
   ]
  },
  {
   "cell_type": "code",
   "execution_count": 5,
   "metadata": {
    "collapsed": true
   },
   "outputs": [],
   "source": [
    "import numpy as np\n",
    "import pandas as pd\n",
    "from scipy import stats, integrate\n",
    "import matplotlib.pyplot as plt\n",
    "import seaborn as sns"
   ]
  },
  {
   "cell_type": "code",
   "execution_count": 6,
   "metadata": {
    "collapsed": true
   },
   "outputs": [],
   "source": [
    "import  calendar as cal, datetime as dt"
   ]
  },
  {
   "cell_type": "code",
   "execution_count": 7,
   "metadata": {},
   "outputs": [],
   "source": [
    "df = pd.read_csv(\"DATA/PREPADATA/positionshistoriqueFiltreTrieeUnique.csv\",sep =';',header = 0 , parse_dates=[0,1])"
   ]
  },
  {
   "cell_type": "code",
   "execution_count": 8,
   "metadata": {},
   "outputs": [],
   "source": [
    "maliste=['10002', '10004', '10006', '10008', '10009', '10010', '10011', '11002', '11003', '11004', '11005', '11007', '11008', '12001', '12002', '12003', '12004', '12005', '12006', '12007', '12008', '12009', '12010']\n",
    "for k in maliste :\n",
    "    df[df['idBalise']==int(k)].to_csv(\"DATA/TRANSFORMATION2/positionshistorique_\"+k+\".csv\", sep = ';',index = False)\n",
    "    "
   ]
  },
  {
   "cell_type": "code",
   "execution_count": 9,
   "metadata": {},
   "outputs": [
    {
     "name": "stdout",
     "output_type": "stream",
     "text": [
      "<class 'pandas.core.frame.DataFrame'>\n",
      "RangeIndex: 165992 entries, 0 to 165991\n",
      "Data columns (total 13 columns):\n",
      "DateReception_HeureReception    165992 non-null datetime64[ns]\n",
      "DateGPS_HeureGPS                165992 non-null datetime64[ns]\n",
      "idBalise                        165992 non-null int64\n",
      "Longitude                       165992 non-null float64\n",
      "Latitude                        165992 non-null float64\n",
      "Vitesse                         165992 non-null int64\n",
      "Direction                       165992 non-null int64\n",
      "Altitude                        165992 non-null int64\n",
      "Satellites                      165992 non-null int64\n",
      "MessageId                       165992 non-null int64\n",
      "Puissance                       165992 non-null float64\n",
      "VoltageBatterie                 165992 non-null float64\n",
      "Distance                        165992 non-null int64\n",
      "dtypes: datetime64[ns](2), float64(4), int64(7)\n",
      "memory usage: 16.5 MB\n"
     ]
    }
   ],
   "source": [
    "df.info()"
   ]
  },
  {
   "cell_type": "code",
   "execution_count": 10,
   "metadata": {},
   "outputs": [],
   "source": [
    "maliste = ['10002', '10004', '10006', '10008', '10009', '10010', '10011', '11002', '11003', '11004', '11005', '11007', '11008', '12001', '12002', '12003', '12004', '12005', '12006', '12007', '12008', '12009', '12010']\n",
    "for k in maliste :\n",
    "    dfk1 = pd.read_csv(\"DATA/TRANSFORMATION2/positionshistorique_\"+k+\".csv\",sep =';',header = 0 , parse_dates=[0,1])\n",
    "    dfk2 = pd.read_csv(\"DATA/TRANSFORMATION2/positionshistorique_\"+k+\".csv\",sep =';',header = 0 , parse_dates=[0,1])\n",
    "    dfk1L1 =df.head(1)\n",
    "    dfk2 = pd.concat([dfk1L1, dfk2], axis=0, join='outer', ignore_index=True)\n",
    "    dfk2.columns = [x+\"Prec\" for x in df.columns]\n",
    "    resultk = pd.concat([dfk1, dfk2], axis=1, join='inner')\n",
    "    resultk.drop(['idBalisePrec', 'LongitudePrec', 'LatitudePrec','VitessePrec', 'DirectionPrec', 'AltitudePrec', 'SatellitesPrec','MessageIdPrec', 'PuissancePrec', 'VoltageBatteriePrec'], axis = 1, inplace = True) \n",
    "    resultk.drop([0], axis = 0, inplace = True) \n",
    "    resultk.to_csv(\"DATA/TRANSFORMATION2/positionshistoriqueW_\"+k+\".csv\", sep = ';',index = False)\n",
    "    "
   ]
  },
  {
   "cell_type": "markdown",
   "metadata": {},
   "source": [
    "# Normalisation et ajout des délais à étudier"
   ]
  },
  {
   "cell_type": "code",
   "execution_count": 11,
   "metadata": {},
   "outputs": [],
   "source": [
    "maliste=['10002', '10004', '10006', '10008', '10009', '10010', '10011', '11002', '11003', '11004', '11005', '11007', '11008', '12001', '12002', '12003', '12004', '12005', '12006', '12007', '12008', '12009', '12010']\n",
    "for k in maliste :\n",
    "    data = pd.read_csv(\"DATA/TRANSFORMATION2/positionshistoriqueW_\"+k+\".csv\",sep =';',header = 0 , parse_dates=[0,1,13,14])\n",
    "    data[\"DelaiServeur\"] =data.apply ( lambda row : ( int((row[\"DateReception_HeureReception\"]-row[\"DateReception_HeureReceptionPrec\"]).total_seconds() ) )  , axis = 1 )\n",
    "    data[\"DelaiBalise\"] =data.apply ( lambda row : ( int((row[\"DateGPS_HeureGPS\"]-row[\"DateGPS_HeureGPSPrec\"]).total_seconds() ) )  , axis = 1 )\n",
    "    data[\"DeltaDist\"] = data.apply ( lambda row : ( int(row[\"Distance\"]-int(float(row[\"DistancePrec\"])))), axis = 1 )\n",
    "    data[\"Lng\"] = data.apply ( lambda row : ( round(row[\"Longitude\"],5)), axis = 1 )\n",
    "    data[\"Lat\"] = data.apply ( lambda row : ( round(row[\"Latitude\"],5)), axis = 1 )\n",
    "    data[\"Power\"] = data.apply ( lambda row : ( round(row[\"Puissance\"],2)), axis = 1 )\n",
    "    data[\"Volt\"] = data.apply ( lambda row : ( round(row[\"VoltageBatterie\"],2)), axis = 1 )\n",
    "    data.drop(['Longitude', 'Latitude', 'Puissance','VoltageBatterie'], axis = 1, inplace = True) \n",
    "    data.to_csv(\"DATA/TRANSFORMATION2/a_positionshistorique_\"+k+\".csv\", sep = ';',index = False)"
   ]
  },
  {
   "cell_type": "code",
   "execution_count": 12,
   "metadata": {
    "collapsed": true
   },
   "outputs": [
    {
     "name": "stdout",
     "output_type": "stream",
     "text": [
      "<class 'pandas.core.frame.DataFrame'>\n",
      "RangeIndex: 6946 entries, 0 to 6945\n",
      "Data columns (total 19 columns):\n",
      "DateReception_HeureReception        6946 non-null datetime64[ns]\n",
      "DateGPS_HeureGPS                    6946 non-null datetime64[ns]\n",
      "idBalise                            6946 non-null int64\n",
      "Vitesse                             6946 non-null int64\n",
      "Direction                           6946 non-null int64\n",
      "Altitude                            6946 non-null int64\n",
      "Satellites                          6946 non-null int64\n",
      "MessageId                           6946 non-null int64\n",
      "Distance                            6946 non-null int64\n",
      "DateReception_HeureReceptionPrec    6946 non-null datetime64[ns]\n",
      "DateGPS_HeureGPSPrec                6946 non-null datetime64[ns]\n",
      "DistancePrec                        6946 non-null int64\n",
      "DelaiServeur                        6946 non-null int64\n",
      "DelaiBalise                         6946 non-null int64\n",
      "DeltaDist                           6946 non-null int64\n",
      "Lng                                 6946 non-null float64\n",
      "Lat                                 6946 non-null float64\n",
      "Power                               6946 non-null float64\n",
      "Volt                                6946 non-null float64\n",
      "dtypes: datetime64[ns](4), float64(4), int64(11)\n",
      "memory usage: 1.0 MB\n"
     ]
    }
   ],
   "source": [
    "data.info()"
   ]
  },
  {
   "cell_type": "code",
   "execution_count": 13,
   "metadata": {},
   "outputs": [
    {
     "data": {
      "text/plain": [
       "(6946, 19)"
      ]
     },
     "execution_count": 13,
     "metadata": {},
     "output_type": "execute_result"
    }
   ],
   "source": [
    "data.shape"
   ]
  },
  {
   "cell_type": "code",
   "execution_count": 14,
   "metadata": {
    "collapsed": true
   },
   "outputs": [],
   "source": [
    "df10002 = pd.read_csv(\"DATA/TRANSFORMATION2/a_positionshistorique_10002.csv\",sep =';',header = 0 , parse_dates=[1,2])\n",
    "df10004 = pd.read_csv(\"DATA/TRANSFORMATION2/a_positionshistorique_10004.csv\",sep =';',header = 0 , parse_dates=[1,2])\n",
    "df10006 = pd.read_csv(\"DATA/TRANSFORMATION2/a_positionshistorique_10006.csv\",sep =';',header = 0 , parse_dates=[1,2])\n",
    "df10008 = pd.read_csv(\"DATA/TRANSFORMATION2/a_positionshistorique_10008.csv\",sep =';',header = 0 , parse_dates=[1,2])\n",
    "df10009 = pd.read_csv(\"DATA/TRANSFORMATION2/a_positionshistorique_10009.csv\",sep =';',header = 0 , parse_dates=[1,2])\n",
    "df10010 = pd.read_csv(\"DATA/TRANSFORMATION2/a_positionshistorique_10010.csv\",sep =';',header = 0 , parse_dates=[1,2])\n",
    "df10011 = pd.read_csv(\"DATA/TRANSFORMATION2/a_positionshistorique_10011.csv\",sep =';',header = 0 , parse_dates=[1,2])"
   ]
  },
  {
   "cell_type": "code",
   "execution_count": 15,
   "metadata": {
    "collapsed": true
   },
   "outputs": [],
   "source": [
    "df11002 = pd.read_csv(\"DATA/TRANSFORMATION2/a_positionshistorique_11002.csv\",sep =';',header = 0 , parse_dates=[1,2])\n",
    "df11003 = pd.read_csv(\"DATA/TRANSFORMATION2/a_positionshistorique_11003.csv\",sep =';',header = 0 , parse_dates=[1,2])\n",
    "df11004 = pd.read_csv(\"DATA/TRANSFORMATION2/a_positionshistorique_11004.csv\",sep =';',header = 0 , parse_dates=[1,2])\n",
    "df11005 = pd.read_csv(\"DATA/TRANSFORMATION2/a_positionshistorique_11005.csv\",sep =';',header = 0 , parse_dates=[1,2])\n",
    "df11007 = pd.read_csv(\"DATA/TRANSFORMATION2/a_positionshistorique_11007.csv\",sep =';',header = 0 , parse_dates=[1,2])\n",
    "df11008 = pd.read_csv(\"DATA/TRANSFORMATION2/a_positionshistorique_11008.csv\",sep =';',header = 0 , parse_dates=[1,2])\n"
   ]
  },
  {
   "cell_type": "code",
   "execution_count": 18,
   "metadata": {},
   "outputs": [],
   "source": [
    "df12001 = pd.read_csv(\"DATA/TRANSFORMATION2/a_positionshistorique_12001.csv\",sep =';',header = 0 , parse_dates=[1,2])\n",
    "df12002 = pd.read_csv(\"DATA/TRANSFORMATION2/a_positionshistorique_12002.csv\",sep =';',header = 0 , parse_dates=[1,2])\n",
    "df12003 = pd.read_csv(\"DATA/TRANSFORMATION2/a_positionshistorique_12003.csv\",sep =';',header = 0 , parse_dates=[1,2])\n",
    "df12004 = pd.read_csv(\"DATA/TRANSFORMATION2/a_positionshistorique_12004.csv\",sep =';',header = 0 , parse_dates=[1,2])\n",
    "df12005 = pd.read_csv(\"DATA/TRANSFORMATION2/a_positionshistorique_12005.csv\",sep =';',header = 0 , parse_dates=[1,2])\n",
    "df12006 = pd.read_csv(\"DATA/TRANSFORMATION2/a_positionshistorique_12006.csv\",sep =';',header = 0 , parse_dates=[1,2])\n",
    "df12007 = pd.read_csv(\"DATA/TRANSFORMATION2/a_positionshistorique_12007.csv\",sep =';',header = 0 , parse_dates=[1,2])\n",
    "df12008 = pd.read_csv(\"DATA/TRANSFORMATION2/a_positionshistorique_12008.csv\",sep =';',header = 0 , parse_dates=[1,2])\n",
    "df12009 = pd.read_csv(\"DATA/TRANSFORMATION2/a_positionshistorique_12009.csv\",sep =';',header = 0 , parse_dates=[1,2])\n",
    "df12010 = pd.read_csv(\"DATA/TRANSFORMATION2/a_positionshistorique_12010.csv\",sep =';',header = 0 , parse_dates=[1,2])\n",
    "\n",
    "#'12001', '12002', '12003', '12004', '12005', '12006', '12007', '12008', '12009', '12010'"
   ]
  },
  {
   "cell_type": "code",
   "execution_count": 19,
   "metadata": {
    "collapsed": true
   },
   "outputs": [],
   "source": [
    "frames10 = [df10002 ,df10004, df10006,df10008 ,df10009, df10010, df10011 ]\n",
    "result10 = pd.concat(frames10)\n",
    "result10.to_csv(\"DATA/TRANSFORMATION2/positionshistorique_10.csv\", sep = ';',index = False)"
   ]
  },
  {
   "cell_type": "code",
   "execution_count": 20,
   "metadata": {
    "collapsed": true
   },
   "outputs": [],
   "source": [
    "frames11 = [df11002, df11003, df11004, df11005, df11007, df11008]\n",
    "result11 = pd.concat(frames11)\n",
    "result11.to_csv(\"DATA/TRANSFORMATION2/positionshistorique_11.csv\", sep = ';',index = False)"
   ]
  },
  {
   "cell_type": "code",
   "execution_count": 21,
   "metadata": {
    "collapsed": true
   },
   "outputs": [],
   "source": [
    "frames12 = [df12001, df12002, df12003, df12004, df12005, df12006, df12007, df12008, df12009, df12010 ]\n",
    "result12 = pd.concat(frames12)\n",
    "result12.to_csv(\"DATA/TRANSFORMATION2/positionshistorique_12.csv\", sep = ';',index = False)"
   ]
  },
  {
   "cell_type": "code",
   "execution_count": 22,
   "metadata": {
    "collapsed": true
   },
   "outputs": [],
   "source": [
    "df10 = pd.read_csv(\"DATA/TRANSFORMATION2/positionshistorique_10.csv\",sep =';',header = 0 , parse_dates=[1,2])\n",
    "df11 = pd.read_csv(\"DATA/TRANSFORMATION2/positionshistorique_11.csv\",sep =';',header = 0 , parse_dates=[1,2])\n",
    "df12 = pd.read_csv(\"DATA/TRANSFORMATION2/positionshistorique_12.csv\",sep =';',header = 0 , parse_dates=[1,2])"
   ]
  },
  {
   "cell_type": "code",
   "execution_count": 23,
   "metadata": {},
   "outputs": [
    {
     "data": {
      "text/plain": [
       "(52079, 19)"
      ]
     },
     "execution_count": 23,
     "metadata": {},
     "output_type": "execute_result"
    }
   ],
   "source": [
    "df10.shape"
   ]
  },
  {
   "cell_type": "code",
   "execution_count": 24,
   "metadata": {},
   "outputs": [
    {
     "data": {
      "text/plain": [
       "(43361, 19)"
      ]
     },
     "execution_count": 24,
     "metadata": {},
     "output_type": "execute_result"
    }
   ],
   "source": [
    "df11.shape"
   ]
  },
  {
   "cell_type": "code",
   "execution_count": 25,
   "metadata": {},
   "outputs": [
    {
     "data": {
      "text/plain": [
       "(70529, 19)"
      ]
     },
     "execution_count": 25,
     "metadata": {},
     "output_type": "execute_result"
    }
   ],
   "source": [
    "df12.shape"
   ]
  },
  {
   "cell_type": "code",
   "execution_count": 26,
   "metadata": {
    "collapsed": true
   },
   "outputs": [],
   "source": [
    "framesFinal = [df10, df11, df12]\n",
    "resultFinal = pd.concat(framesFinal)"
   ]
  },
  {
   "cell_type": "code",
   "execution_count": 27,
   "metadata": {
    "collapsed": true
   },
   "outputs": [],
   "source": [
    "resultFinal.to_csv(\"DATA/positionshistoriqueEtude.csv\", sep = ';',index = False)"
   ]
  },
  {
   "cell_type": "code",
   "execution_count": 36,
   "metadata": {
    "collapsed": true
   },
   "outputs": [],
   "source": [
    "df = pd.read_csv(\"DATA/positionshistoriqueEtude.csv\",sep =';',header = 0 , parse_dates=[0,1,9,10])"
   ]
  },
  {
   "cell_type": "code",
   "execution_count": 32,
   "metadata": {
    "collapsed": true
   },
   "outputs": [],
   "source": [
    "#df[\"DelaiGPSPrec\"] = df.apply ( lambda row : int(( row[\"DateHeureGPS\"]-row[\"DateHeureGPSPrec\"]).total_seconds()), axis = 1 )\n",
    "#df[\"DelaiReceptionPrec\"] = df.apply ( lambda row : int(( row[\"DateHeureReception\"]-row[\"DateHeureReceptionPrec\"]).total_seconds()), axis = 1 )\n",
    "df[\"BaliseLabel\"] = df.apply ( lambda row : ( \"B\"+str(row[\"idBalise\"])), axis = 1 )\n",
    "df[\"MessageIdLabel\"] = df.apply ( lambda row : ( \"B\"+str(row[\"MessageId\"])), axis = 1 )"
   ]
  },
  {
   "cell_type": "code",
   "execution_count": 39,
   "metadata": {},
   "outputs": [
    {
     "name": "stdout",
     "output_type": "stream",
     "text": [
      "<class 'pandas.core.frame.DataFrame'>\n",
      "RangeIndex: 165969 entries, 0 to 165968\n",
      "Data columns (total 21 columns):\n",
      "dateHeureRec            165969 non-null datetime64[ns]\n",
      "dateHeureGPS            165969 non-null datetime64[ns]\n",
      "idBalise                165969 non-null int64\n",
      "vitesse                 165969 non-null int64\n",
      "direction               165969 non-null int64\n",
      "altitude                165969 non-null int64\n",
      "satellites              165969 non-null int64\n",
      "messageId               165969 non-null int64\n",
      "distance                165969 non-null int64\n",
      "dateHeureServeurPrec    165969 non-null datetime64[ns]\n",
      "dateHeureBalisePrec     165969 non-null datetime64[ns]\n",
      "distancePrec            165969 non-null int64\n",
      "delaiServeur            165969 non-null int64\n",
      "delaiBalise             165969 non-null int64\n",
      "deltaDistance           165969 non-null int64\n",
      "lng                     165969 non-null float64\n",
      "lat                     165969 non-null float64\n",
      "power                   165969 non-null float64\n",
      "volt                    165969 non-null float64\n",
      "labelBalise             165969 non-null object\n",
      "labelMessage            165969 non-null object\n",
      "dtypes: datetime64[ns](4), float64(4), int64(11), object(2)\n",
      "memory usage: 26.6+ MB\n"
     ]
    }
   ],
   "source": [
    "df.info()"
   ]
  },
  {
   "cell_type": "code",
   "execution_count": 38,
   "metadata": {},
   "outputs": [],
   "source": [
    "df.columns = ['dateHeureRec', 'dateHeureGPS', 'idBalise',\n",
    "       'vitesse', 'direction', 'altitude', 'satellites', 'messageId',\n",
    "       'distance', 'dateHeureServeurPrec',\n",
    "       'dateHeureBalisePrec', 'distancePrec', 'delaiServeur', 'delaiBalise', 'deltaDistance',\n",
    "       'lng', 'lat', 'power', 'volt','labelBalise','labelMessage']\n"
   ]
  },
  {
   "cell_type": "code",
   "execution_count": 40,
   "metadata": {},
   "outputs": [
    {
     "name": "stdout",
     "output_type": "stream",
     "text": [
      "<class 'pandas.core.frame.DataFrame'>\n",
      "RangeIndex: 165969 entries, 0 to 165968\n",
      "Data columns (total 21 columns):\n",
      "dateHeureRec            165969 non-null datetime64[ns]\n",
      "dateHeureGPS            165969 non-null datetime64[ns]\n",
      "idBalise                165969 non-null int64\n",
      "vitesse                 165969 non-null int64\n",
      "direction               165969 non-null int64\n",
      "altitude                165969 non-null int64\n",
      "satellites              165969 non-null int64\n",
      "messageId               165969 non-null int64\n",
      "distance                165969 non-null int64\n",
      "dateHeureServeurPrec    165969 non-null datetime64[ns]\n",
      "dateHeureBalisePrec     165969 non-null datetime64[ns]\n",
      "distancePrec            165969 non-null int64\n",
      "delaiServeur            165969 non-null int64\n",
      "delaiBalise             165969 non-null int64\n",
      "deltaDistance           165969 non-null int64\n",
      "lng                     165969 non-null float64\n",
      "lat                     165969 non-null float64\n",
      "power                   165969 non-null float64\n",
      "volt                    165969 non-null float64\n",
      "labelBalise             165969 non-null object\n",
      "labelMessage            165969 non-null object\n",
      "dtypes: datetime64[ns](4), float64(4), int64(11), object(2)\n",
      "memory usage: 26.6+ MB\n"
     ]
    }
   ],
   "source": [
    "df.info()"
   ]
  },
  {
   "cell_type": "markdown",
   "metadata": {},
   "source": [
    "# Sauvegarde du fichier à etudier"
   ]
  },
  {
   "cell_type": "code",
   "execution_count": 41,
   "metadata": {
    "collapsed": true
   },
   "outputs": [],
   "source": [
    "df.to_csv(\"DATA/positionshistoriqueEtude.csv\", sep = ';',index = False)"
   ]
  },
  {
   "cell_type": "code",
   "execution_count": null,
   "metadata": {
    "collapsed": true
   },
   "outputs": [],
   "source": []
  }
 ],
 "metadata": {
  "kernelspec": {
   "display_name": "Python 3",
   "language": "python",
   "name": "python3"
  },
  "language_info": {
   "codemirror_mode": {
    "name": "ipython",
    "version": 3
   },
   "file_extension": ".py",
   "mimetype": "text/x-python",
   "name": "python",
   "nbconvert_exporter": "python",
   "pygments_lexer": "ipython3",
   "version": "3.6.3"
  }
 },
 "nbformat": 4,
 "nbformat_minor": 2
}
